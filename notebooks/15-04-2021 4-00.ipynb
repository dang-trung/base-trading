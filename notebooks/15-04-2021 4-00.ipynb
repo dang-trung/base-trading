{
 "metadata": {
  "language_info": {
   "codemirror_mode": {
    "name": "ipython",
    "version": 3
   },
   "file_extension": ".py",
   "mimetype": "text/x-python",
   "name": "python",
   "nbconvert_exporter": "python",
   "pygments_lexer": "ipython3",
   "version": "3.7.9-final"
  },
  "orig_nbformat": 2,
  "kernelspec": {
   "name": "python3-dsvenv",
   "language": "python",
   "display_name": "Python 3.7.9 (ds-venv)"
  }
 },
 "nbformat": 4,
 "nbformat_minor": 2,
 "cells": [
  {
   "cell_type": "code",
   "execution_count": 25,
   "outputs": [],
   "source": [
    "C# %cd ../"
   ],
   "metadata": {
    "collapsed": false,
    "pycharm": {
     "name": "#%%\n"
    }
   }
  },
  {
   "cell_type": "code",
   "execution_count": 26,
   "outputs": [],
   "source": [
    "import os\n",
    "\n",
    "import pandas as pd\n",
    "import pandas_datareader.data as web  # For reading stock data from yahoo\n",
    "\n",
    "\n",
    "class Collector:\n",
    "    def __init__(self, ticker, start, end, data_path):\n",
    "        self.ticker = ticker\n",
    "        self.start = start\n",
    "        self.end = end\n",
    "        self.data_path = data_path\n",
    "\n",
    "    def fetch(self):\n",
    "        data = web.DataReader(self.ticker, 'yahoo', self.start, self.end)\n",
    "        # data.reset_index(inplace=True)\n",
    "        data.to_csv(self.data_path)\n",
    "\n",
    "        return data\n",
    "\n",
    "    def get_historical(self):\n",
    "        if os.path.exists(self.data_path):\n",
    "            data = pd.read_csv(self.data_path)\n",
    "            if pd.to_datetime(data['Date'][0]) > pd.to_datetime(self.start):\n",
    "                data = self.fetch()\n",
    "        else:\n",
    "            data = self.fetch()\n",
    "\n",
    "        return data"
   ],
   "metadata": {
    "collapsed": false,
    "pycharm": {
     "name": "#%%\n"
    }
   }
  },
  {
   "cell_type": "code",
   "execution_count": 27,
   "outputs": [],
   "source": [
    "start = '2016-01-01'\n",
    "end = '2021-01-01'\n",
    "ticker = 'ETH-USD'\n",
    "data_path = os.path.join('data', f'{ticker}.csv')\n",
    "\n",
    "collector = Collector(ticker, start, end, data_path)\n",
    "original_data = collector.get_historical()\n",
    "data = original_data.copy()\n"
   ],
   "metadata": {
    "collapsed": false,
    "pycharm": {
     "name": "#%%\n"
    }
   }
  },
  {
   "cell_type": "code",
   "execution_count": 33,
   "outputs": [
    {
     "data": {
      "text/plain": "            Date        High         Low        Open       Close  \\\n0     2016-01-01    0.954822    0.931442    0.933712    0.948024   \n1     2016-01-02    0.969637    0.936560    0.947401    0.937124   \n2     2016-01-03    0.991362    0.934313    0.938430    0.971905   \n3     2016-01-04    0.976438    0.929835    0.972045    0.954480   \n4     2016-01-05    0.970597    0.946543    0.953147    0.950176   \n...          ...         ...         ...         ...         ...   \n1820  2020-12-29  737.952881  692.149414  730.358704  731.520142   \n1821  2020-12-30  754.303223  720.988892  731.472839  751.618958   \n1822  2020-12-31  754.299438  726.511902  751.626648  737.803406   \n1823  2021-01-01  749.201843  719.792236  737.708374  730.367554   \n1824  2021-01-02  786.798462  718.109497  730.402649  774.534973   \n\n            Volume   Adj Close  \n0     2.060620e+05    0.948024  \n1     2.555040e+05    0.937124  \n2     4.076320e+05    0.971905  \n3     3.462450e+05    0.954480  \n4     2.198330e+05    0.950176  \n...            ...         ...  \n1820  1.871068e+10  731.520142  \n1821  1.729457e+10  751.618958  \n1822  1.392685e+10  737.803406  \n1823  1.365200e+10  730.367554  \n1824  1.974077e+10  774.534973  \n\n[1825 rows x 7 columns]",
      "text/html": "<div>\n<style scoped>\n    .dataframe tbody tr th:only-of-type {\n        vertical-align: middle;\n    }\n\n    .dataframe tbody tr th {\n        vertical-align: top;\n    }\n\n    .dataframe thead th {\n        text-align: right;\n    }\n</style>\n<table border=\"1\" class=\"dataframe\">\n  <thead>\n    <tr style=\"text-align: right;\">\n      <th></th>\n      <th>Date</th>\n      <th>High</th>\n      <th>Low</th>\n      <th>Open</th>\n      <th>Close</th>\n      <th>Volume</th>\n      <th>Adj Close</th>\n    </tr>\n  </thead>\n  <tbody>\n    <tr>\n      <th>0</th>\n      <td>2016-01-01</td>\n      <td>0.954822</td>\n      <td>0.931442</td>\n      <td>0.933712</td>\n      <td>0.948024</td>\n      <td>2.060620e+05</td>\n      <td>0.948024</td>\n    </tr>\n    <tr>\n      <th>1</th>\n      <td>2016-01-02</td>\n      <td>0.969637</td>\n      <td>0.936560</td>\n      <td>0.947401</td>\n      <td>0.937124</td>\n      <td>2.555040e+05</td>\n      <td>0.937124</td>\n    </tr>\n    <tr>\n      <th>2</th>\n      <td>2016-01-03</td>\n      <td>0.991362</td>\n      <td>0.934313</td>\n      <td>0.938430</td>\n      <td>0.971905</td>\n      <td>4.076320e+05</td>\n      <td>0.971905</td>\n    </tr>\n    <tr>\n      <th>3</th>\n      <td>2016-01-04</td>\n      <td>0.976438</td>\n      <td>0.929835</td>\n      <td>0.972045</td>\n      <td>0.954480</td>\n      <td>3.462450e+05</td>\n      <td>0.954480</td>\n    </tr>\n    <tr>\n      <th>4</th>\n      <td>2016-01-05</td>\n      <td>0.970597</td>\n      <td>0.946543</td>\n      <td>0.953147</td>\n      <td>0.950176</td>\n      <td>2.198330e+05</td>\n      <td>0.950176</td>\n    </tr>\n    <tr>\n      <th>...</th>\n      <td>...</td>\n      <td>...</td>\n      <td>...</td>\n      <td>...</td>\n      <td>...</td>\n      <td>...</td>\n      <td>...</td>\n    </tr>\n    <tr>\n      <th>1820</th>\n      <td>2020-12-29</td>\n      <td>737.952881</td>\n      <td>692.149414</td>\n      <td>730.358704</td>\n      <td>731.520142</td>\n      <td>1.871068e+10</td>\n      <td>731.520142</td>\n    </tr>\n    <tr>\n      <th>1821</th>\n      <td>2020-12-30</td>\n      <td>754.303223</td>\n      <td>720.988892</td>\n      <td>731.472839</td>\n      <td>751.618958</td>\n      <td>1.729457e+10</td>\n      <td>751.618958</td>\n    </tr>\n    <tr>\n      <th>1822</th>\n      <td>2020-12-31</td>\n      <td>754.299438</td>\n      <td>726.511902</td>\n      <td>751.626648</td>\n      <td>737.803406</td>\n      <td>1.392685e+10</td>\n      <td>737.803406</td>\n    </tr>\n    <tr>\n      <th>1823</th>\n      <td>2021-01-01</td>\n      <td>749.201843</td>\n      <td>719.792236</td>\n      <td>737.708374</td>\n      <td>730.367554</td>\n      <td>1.365200e+10</td>\n      <td>730.367554</td>\n    </tr>\n    <tr>\n      <th>1824</th>\n      <td>2021-01-02</td>\n      <td>786.798462</td>\n      <td>718.109497</td>\n      <td>730.402649</td>\n      <td>774.534973</td>\n      <td>1.974077e+10</td>\n      <td>774.534973</td>\n    </tr>\n  </tbody>\n</table>\n<p>1825 rows × 7 columns</p>\n</div>"
     },
     "execution_count": 33,
     "metadata": {},
     "output_type": "execute_result"
    }
   ],
   "source": [
    "pd.read_csv(data_path, index_col=0)"
   ],
   "metadata": {
    "collapsed": false,
    "pycharm": {
     "name": "#%%\n"
    }
   }
  },
  {
   "cell_type": "code",
   "execution_count": 28,
   "outputs": [
    {
     "data": {
      "text/plain": "(1825, 8)"
     },
     "execution_count": 28,
     "metadata": {},
     "output_type": "execute_result"
    }
   ],
   "source": [
    "data.shape"
   ],
   "metadata": {
    "collapsed": false,
    "pycharm": {
     "name": "#%%\n"
    }
   }
  },
  {
   "cell_type": "code",
   "execution_count": 29,
   "outputs": [
    {
     "data": {
      "text/plain": "   Unnamed: 0        Date      High       Low      Open     Close    Volume  \\\n0           0  2016-01-01  0.954822  0.931442  0.933712  0.948024  206062.0   \n1           1  2016-01-02  0.969637  0.936560  0.947401  0.937124  255504.0   \n2           2  2016-01-03  0.991362  0.934313  0.938430  0.971905  407632.0   \n3           3  2016-01-04  0.976438  0.929835  0.972045  0.954480  346245.0   \n4           4  2016-01-05  0.970597  0.946543  0.953147  0.950176  219833.0   \n\n   Adj Close  \n0   0.948024  \n1   0.937124  \n2   0.971905  \n3   0.954480  \n4   0.950176  ",
      "text/html": "<div>\n<style scoped>\n    .dataframe tbody tr th:only-of-type {\n        vertical-align: middle;\n    }\n\n    .dataframe tbody tr th {\n        vertical-align: top;\n    }\n\n    .dataframe thead th {\n        text-align: right;\n    }\n</style>\n<table border=\"1\" class=\"dataframe\">\n  <thead>\n    <tr style=\"text-align: right;\">\n      <th></th>\n      <th>Unnamed: 0</th>\n      <th>Date</th>\n      <th>High</th>\n      <th>Low</th>\n      <th>Open</th>\n      <th>Close</th>\n      <th>Volume</th>\n      <th>Adj Close</th>\n    </tr>\n  </thead>\n  <tbody>\n    <tr>\n      <th>0</th>\n      <td>0</td>\n      <td>2016-01-01</td>\n      <td>0.954822</td>\n      <td>0.931442</td>\n      <td>0.933712</td>\n      <td>0.948024</td>\n      <td>206062.0</td>\n      <td>0.948024</td>\n    </tr>\n    <tr>\n      <th>1</th>\n      <td>1</td>\n      <td>2016-01-02</td>\n      <td>0.969637</td>\n      <td>0.936560</td>\n      <td>0.947401</td>\n      <td>0.937124</td>\n      <td>255504.0</td>\n      <td>0.937124</td>\n    </tr>\n    <tr>\n      <th>2</th>\n      <td>2</td>\n      <td>2016-01-03</td>\n      <td>0.991362</td>\n      <td>0.934313</td>\n      <td>0.938430</td>\n      <td>0.971905</td>\n      <td>407632.0</td>\n      <td>0.971905</td>\n    </tr>\n    <tr>\n      <th>3</th>\n      <td>3</td>\n      <td>2016-01-04</td>\n      <td>0.976438</td>\n      <td>0.929835</td>\n      <td>0.972045</td>\n      <td>0.954480</td>\n      <td>346245.0</td>\n      <td>0.954480</td>\n    </tr>\n    <tr>\n      <th>4</th>\n      <td>4</td>\n      <td>2016-01-05</td>\n      <td>0.970597</td>\n      <td>0.946543</td>\n      <td>0.953147</td>\n      <td>0.950176</td>\n      <td>219833.0</td>\n      <td>0.950176</td>\n    </tr>\n  </tbody>\n</table>\n</div>"
     },
     "execution_count": 29,
     "metadata": {},
     "output_type": "execute_result"
    }
   ],
   "source": [
    "data.head()"
   ],
   "metadata": {
    "collapsed": false,
    "pycharm": {
     "name": "#%%\n"
    }
   }
  },
  {
   "cell_type": "code",
   "execution_count": 25,
   "outputs": [
    {
     "name": "stdout",
     "output_type": "stream",
     "text": [
      "<class 'pandas.core.frame.DataFrame'>\n",
      "DatetimeIndex: 1825 entries, 2016-01-01 to 2021-01-02\n",
      "Data columns (total 6 columns):\n",
      " #   Column     Non-Null Count  Dtype  \n",
      "---  ------     --------------  -----  \n",
      " 0   High       1825 non-null   float64\n",
      " 1   Low        1825 non-null   float64\n",
      " 2   Open       1825 non-null   float64\n",
      " 3   Close      1825 non-null   float64\n",
      " 4   Volume     1825 non-null   float64\n",
      " 5   Adj Close  1825 non-null   float64\n",
      "dtypes: float64(6)\n",
      "memory usage: 99.8 KB\n"
     ]
    }
   ],
   "source": [
    "data.info()"
   ],
   "metadata": {
    "collapsed": false,
    "pycharm": {
     "name": "#%%\n"
    }
   }
  },
  {
   "cell_type": "code",
   "execution_count": null,
   "outputs": [],
   "source": [
    "pd.to_datetime(data['Date'][0])"
   ],
   "metadata": {
    "collapsed": false,
    "pycharm": {
     "name": "#%%\n"
    }
   }
  },
  {
   "cell_type": "code",
   "execution_count": null,
   "metadata": {},
   "outputs": [],
   "source": [
    "import plotly.graph_objects as go\n",
    "from plotly.subplots import make_subplots"
   ]
  },
  {
   "cell_type": "code",
   "execution_count": null,
   "outputs": [],
   "source": [
    "fig = make_subplots(rows = 2, cols = 1, shared_xaxes = True, row_heights = [0.8, 0.2])\n",
    "price = go.Scatter(x = data['Date'], y = data['Close'], name = ticker.upper())\n",
    "volume = go.Bar(x = data['Date'], y = data['Volume'], name = 'Volume',\n",
    "                opacity = 1, marker_line_width = 0)\n",
    "\n",
    "fig.add_trace(price, row = 1, col = 1)\n",
    "fig.add_trace(volume, row = 2, col = 1)\n",
    "\n",
    "fig"
   ],
   "metadata": {
    "collapsed": false,
    "pycharm": {
     "name": "#%%\n"
    }
   }
  },
  {
   "cell_type": "code",
   "execution_count": null,
   "outputs": [],
   "source": [
    "import numpy as np\n",
    "import pandas as pd\n",
    "from math import inf\n",
    "from scipy.signal import argrelextrema"
   ],
   "metadata": {
    "collapsed": false,
    "pycharm": {
     "name": "#%%\n"
    }
   }
  },
  {
   "cell_type": "code",
   "execution_count": null,
   "outputs": [],
   "source": [
    "def find_support(data, price = 'Close', order = 400):\n",
    "    support_ix =  argrelextrema(data[price].values, np.less_equal, order = order)\n",
    "    data['Support'] = data.iloc[support_ix][0][price]\n",
    "    for i in data[data['Support'].notnull()].index:\n",
    "        for n in range(-int(order/2), int(order/4)+1, 1):\n",
    "            step = pd.Timedelta(n, unit = 'h')\n",
    "            if (i - step) < data.index[-1] and (i - step) > data.index[0]:\n",
    "                data.loc[i - step, 'Support Line'] = data.loc[i, 'Support']\n"
   ],
   "metadata": {
    "collapsed": false,
    "pycharm": {
     "name": "#%%\n"
    }
   }
  },
  {
   "cell_type": "code",
   "execution_count": null,
   "outputs": [],
   "source": [
    "price = 'Close'\n",
    "order = 400\n",
    "support_ix =  argrelextrema(data[price].values, np.less_equal, order = order)\n",
    "support_ix\n"
   ],
   "metadata": {
    "collapsed": false,
    "pycharm": {
     "name": "#%%\n"
    }
   }
  },
  {
   "cell_type": "code",
   "execution_count": null,
   "outputs": [],
   "source": [
    "from sklearn.base import BaseEstimator, TransformerMixin\n",
    "\n",
    "class BaseTrader(BaseEstimator, TransformerMixin):\n",
    "    def __init__(self, price = 'Close', valid_days = 50, break_support = 0.1, \n",
    "                 break_resist = 0.1):\n",
    "        self.price = price\n",
    "        self.valid_days = valid_days\n",
    "        self.break_support = break_support\n",
    "        self.break_resist = break_resist\n",
    "\n",
    "    def fit(self, X):\n",
    "        pass\n",
    "\n",
    "    def transform(self, X):\n",
    "        pass\n",
    "    # ------------- Methods to compute Support and Resistance -------------\n",
    "    def find_base(self, X, support = True):\n",
    "        if support:\n",
    "            base = 'Support'\n",
    "            func = np.less_equal\n",
    "        else:\n",
    "            base = 'Resistance'\n",
    "            func = np.greater_equal\n",
    "            \n",
    "        support_ix =  argrelextrema(X[self.price].values, func,\n",
    "                                    order = self.valid_days)\n",
    "        X[base] = X.loc[support_ix, self.price]\n",
    "\n",
    "        self.find_baseline(X, base)\n",
    "\n",
    "    def find_baseline(self, X, base):\n",
    "        X = X.copy()\n",
    "        line_range = len(X) // 50\n",
    "        X[f\"{base} Line\"] = X[base].fillna(method='ffill', limit = line_range)\n",
    "        X[f\"{base} Line\"].fillna(method='bfill', limit=line_range, inplace=True)\n",
    "\n",
    "    def find_support(self, X):\n",
    "        self.find_base(X, support = True)\n",
    "    \n",
    "    def find_resistance(self, X):\n",
    "        self.find_base(X, support = False)\n",
    "\n",
    "    # ------------- Methods to derive Buy & Sell Signals -------------\n",
    "\n",
    "    def buy_signal(self, X):\n",
    "        ratio = 1 - self.break_support\n",
    "        X['Signal'] = 0\n",
    "        mask = X['Support'].notna()\n",
    "        base =  X['Support'][mask][::-1]\n",
    "        base_date = list(base.index)\n",
    "        base = list(base)\n",
    "        available_base = []\n",
    "    \n",
    "    \n",
    "        for i in range(len(X)):\n",
    "    \n",
    "            try:\n",
    "                if i > base_date[-1]:  # if iterator passes the day of a support\n",
    "                    available_base.append(base.pop())  # that base becomes available to be compared\n",
    "                    available_base.sort()\n",
    "                    base_date.pop()  # pop the base date that have been passed\n",
    "            except IndexError:\n",
    "                pass\n",
    "    \n",
    "            if len(available_base) > 0:\n",
    "                if X.loc[i, price] < available_base[-1] * ratio:\n",
    "                    X.loc[i, 'Signal'] = 1\n",
    "                    available_base.pop()"
   ],
   "metadata": {
    "collapsed": false,
    "pycharm": {
     "name": "#%%\n"
    }
   }
  },
  {
   "cell_type": "code",
   "execution_count": 27,
   "outputs": [
    {
     "ename": "KeyError",
     "evalue": "\"None of [Int64Index([14, 214, 448, 562, 766, 826, 909, 1079, 1133, 1446, 1532], dtype='int64', name='Date')] are in the [index]\"",
     "output_type": "error",
     "traceback": [
      "\u001B[1;31m---------------------------------------------------------------------------\u001B[0m",
      "\u001B[1;31mKeyError\u001B[0m                                  Traceback (most recent call last)",
      "\u001B[1;32m<ipython-input-27-4b1779715076>\u001B[0m in \u001B[0;36m<module>\u001B[1;34m\u001B[0m\n\u001B[0;32m      1\u001B[0m \u001B[0mtransformer\u001B[0m \u001B[1;33m=\u001B[0m \u001B[0mBaseTrader\u001B[0m\u001B[1;33m(\u001B[0m\u001B[1;33m)\u001B[0m\u001B[1;33m\u001B[0m\u001B[1;33m\u001B[0m\u001B[0m\n\u001B[1;32m----> 2\u001B[1;33m \u001B[0mtransformer\u001B[0m\u001B[1;33m.\u001B[0m\u001B[0mfind_base\u001B[0m\u001B[1;33m(\u001B[0m\u001B[0mdata\u001B[0m\u001B[1;33m)\u001B[0m\u001B[1;33m\u001B[0m\u001B[1;33m\u001B[0m\u001B[0m\n\u001B[0m\u001B[0;32m      3\u001B[0m \u001B[0mdata\u001B[0m\u001B[1;33m.\u001B[0m\u001B[0mcolumns\u001B[0m\u001B[1;33m\u001B[0m\u001B[1;33m\u001B[0m\u001B[0m\n\u001B[0;32m      4\u001B[0m \u001B[1;33m\u001B[0m\u001B[0m\n\u001B[0;32m      5\u001B[0m \u001B[1;33m\u001B[0m\u001B[0m\n",
      "\u001B[1;32m<ipython-input-14-4b625e1e392b>\u001B[0m in \u001B[0;36mfind_base\u001B[1;34m(self, X, support)\u001B[0m\n\u001B[0;32m     23\u001B[0m         support_ix =  argrelextrema(X_copy[self.price].values, comparator,\n\u001B[0;32m     24\u001B[0m                                     order = self.valid_days)\n\u001B[1;32m---> 25\u001B[1;33m         \u001B[0mX_copy\u001B[0m\u001B[1;33m[\u001B[0m\u001B[0mbase\u001B[0m\u001B[1;33m]\u001B[0m \u001B[1;33m=\u001B[0m \u001B[0mX_copy\u001B[0m\u001B[1;33m.\u001B[0m\u001B[0mloc\u001B[0m\u001B[1;33m[\u001B[0m\u001B[0msupport_ix\u001B[0m\u001B[1;33m,\u001B[0m \u001B[0mself\u001B[0m\u001B[1;33m.\u001B[0m\u001B[0mprice\u001B[0m\u001B[1;33m]\u001B[0m\u001B[1;33m\u001B[0m\u001B[1;33m\u001B[0m\u001B[0m\n\u001B[0m\u001B[0;32m     26\u001B[0m \u001B[1;33m\u001B[0m\u001B[0m\n\u001B[0;32m     27\u001B[0m         \u001B[0mself\u001B[0m\u001B[1;33m.\u001B[0m\u001B[0mfind_baseline\u001B[0m\u001B[1;33m(\u001B[0m\u001B[0mX_copy\u001B[0m\u001B[1;33m,\u001B[0m \u001B[0mbase\u001B[0m\u001B[1;33m)\u001B[0m\u001B[1;33m\u001B[0m\u001B[1;33m\u001B[0m\u001B[0m\n",
      "\u001B[1;32m~\\Documents\\Python\\ds-venv\\lib\\site-packages\\pandas\\core\\indexing.py\u001B[0m in \u001B[0;36m__getitem__\u001B[1;34m(self, key)\u001B[0m\n\u001B[0;32m    887\u001B[0m                     \u001B[1;31m# AttributeError for IntervalTree get_value\u001B[0m\u001B[1;33m\u001B[0m\u001B[1;33m\u001B[0m\u001B[1;33m\u001B[0m\u001B[0m\n\u001B[0;32m    888\u001B[0m                     \u001B[1;32mreturn\u001B[0m \u001B[0mself\u001B[0m\u001B[1;33m.\u001B[0m\u001B[0mobj\u001B[0m\u001B[1;33m.\u001B[0m\u001B[0m_get_value\u001B[0m\u001B[1;33m(\u001B[0m\u001B[1;33m*\u001B[0m\u001B[0mkey\u001B[0m\u001B[1;33m,\u001B[0m \u001B[0mtakeable\u001B[0m\u001B[1;33m=\u001B[0m\u001B[0mself\u001B[0m\u001B[1;33m.\u001B[0m\u001B[0m_takeable\u001B[0m\u001B[1;33m)\u001B[0m\u001B[1;33m\u001B[0m\u001B[1;33m\u001B[0m\u001B[0m\n\u001B[1;32m--> 889\u001B[1;33m             \u001B[1;32mreturn\u001B[0m \u001B[0mself\u001B[0m\u001B[1;33m.\u001B[0m\u001B[0m_getitem_tuple\u001B[0m\u001B[1;33m(\u001B[0m\u001B[0mkey\u001B[0m\u001B[1;33m)\u001B[0m\u001B[1;33m\u001B[0m\u001B[1;33m\u001B[0m\u001B[0m\n\u001B[0m\u001B[0;32m    890\u001B[0m         \u001B[1;32melse\u001B[0m\u001B[1;33m:\u001B[0m\u001B[1;33m\u001B[0m\u001B[1;33m\u001B[0m\u001B[0m\n\u001B[0;32m    891\u001B[0m             \u001B[1;31m# we by definition only have the 0th axis\u001B[0m\u001B[1;33m\u001B[0m\u001B[1;33m\u001B[0m\u001B[1;33m\u001B[0m\u001B[0m\n",
      "\u001B[1;32m~\\Documents\\Python\\ds-venv\\lib\\site-packages\\pandas\\core\\indexing.py\u001B[0m in \u001B[0;36m_getitem_tuple\u001B[1;34m(self, tup)\u001B[0m\n\u001B[0;32m   1058\u001B[0m     \u001B[1;32mdef\u001B[0m \u001B[0m_getitem_tuple\u001B[0m\u001B[1;33m(\u001B[0m\u001B[0mself\u001B[0m\u001B[1;33m,\u001B[0m \u001B[0mtup\u001B[0m\u001B[1;33m:\u001B[0m \u001B[0mTuple\u001B[0m\u001B[1;33m)\u001B[0m\u001B[1;33m:\u001B[0m\u001B[1;33m\u001B[0m\u001B[1;33m\u001B[0m\u001B[0m\n\u001B[0;32m   1059\u001B[0m         \u001B[1;32mwith\u001B[0m \u001B[0msuppress\u001B[0m\u001B[1;33m(\u001B[0m\u001B[0mIndexingError\u001B[0m\u001B[1;33m)\u001B[0m\u001B[1;33m:\u001B[0m\u001B[1;33m\u001B[0m\u001B[1;33m\u001B[0m\u001B[0m\n\u001B[1;32m-> 1060\u001B[1;33m             \u001B[1;32mreturn\u001B[0m \u001B[0mself\u001B[0m\u001B[1;33m.\u001B[0m\u001B[0m_getitem_lowerdim\u001B[0m\u001B[1;33m(\u001B[0m\u001B[0mtup\u001B[0m\u001B[1;33m)\u001B[0m\u001B[1;33m\u001B[0m\u001B[1;33m\u001B[0m\u001B[0m\n\u001B[0m\u001B[0;32m   1061\u001B[0m \u001B[1;33m\u001B[0m\u001B[0m\n\u001B[0;32m   1062\u001B[0m         \u001B[1;31m# no multi-index, so validate all of the indexers\u001B[0m\u001B[1;33m\u001B[0m\u001B[1;33m\u001B[0m\u001B[1;33m\u001B[0m\u001B[0m\n",
      "\u001B[1;32m~\\Documents\\Python\\ds-venv\\lib\\site-packages\\pandas\\core\\indexing.py\u001B[0m in \u001B[0;36m_getitem_lowerdim\u001B[1;34m(self, tup)\u001B[0m\n\u001B[0;32m    829\u001B[0m                     \u001B[1;32mreturn\u001B[0m \u001B[0msection\u001B[0m\u001B[1;33m\u001B[0m\u001B[1;33m\u001B[0m\u001B[0m\n\u001B[0;32m    830\u001B[0m                 \u001B[1;31m# This is an elided recursive call to iloc/loc\u001B[0m\u001B[1;33m\u001B[0m\u001B[1;33m\u001B[0m\u001B[1;33m\u001B[0m\u001B[0m\n\u001B[1;32m--> 831\u001B[1;33m                 \u001B[1;32mreturn\u001B[0m \u001B[0mgetattr\u001B[0m\u001B[1;33m(\u001B[0m\u001B[0msection\u001B[0m\u001B[1;33m,\u001B[0m \u001B[0mself\u001B[0m\u001B[1;33m.\u001B[0m\u001B[0mname\u001B[0m\u001B[1;33m)\u001B[0m\u001B[1;33m[\u001B[0m\u001B[0mnew_key\u001B[0m\u001B[1;33m]\u001B[0m\u001B[1;33m\u001B[0m\u001B[1;33m\u001B[0m\u001B[0m\n\u001B[0m\u001B[0;32m    832\u001B[0m \u001B[1;33m\u001B[0m\u001B[0m\n\u001B[0;32m    833\u001B[0m         \u001B[1;32mraise\u001B[0m \u001B[0mIndexingError\u001B[0m\u001B[1;33m(\u001B[0m\u001B[1;34m\"not applicable\"\u001B[0m\u001B[1;33m)\u001B[0m\u001B[1;33m\u001B[0m\u001B[1;33m\u001B[0m\u001B[0m\n",
      "\u001B[1;32m~\\Documents\\Python\\ds-venv\\lib\\site-packages\\pandas\\core\\indexing.py\u001B[0m in \u001B[0;36m__getitem__\u001B[1;34m(self, key)\u001B[0m\n\u001B[0;32m    887\u001B[0m                     \u001B[1;31m# AttributeError for IntervalTree get_value\u001B[0m\u001B[1;33m\u001B[0m\u001B[1;33m\u001B[0m\u001B[1;33m\u001B[0m\u001B[0m\n\u001B[0;32m    888\u001B[0m                     \u001B[1;32mreturn\u001B[0m \u001B[0mself\u001B[0m\u001B[1;33m.\u001B[0m\u001B[0mobj\u001B[0m\u001B[1;33m.\u001B[0m\u001B[0m_get_value\u001B[0m\u001B[1;33m(\u001B[0m\u001B[1;33m*\u001B[0m\u001B[0mkey\u001B[0m\u001B[1;33m,\u001B[0m \u001B[0mtakeable\u001B[0m\u001B[1;33m=\u001B[0m\u001B[0mself\u001B[0m\u001B[1;33m.\u001B[0m\u001B[0m_takeable\u001B[0m\u001B[1;33m)\u001B[0m\u001B[1;33m\u001B[0m\u001B[1;33m\u001B[0m\u001B[0m\n\u001B[1;32m--> 889\u001B[1;33m             \u001B[1;32mreturn\u001B[0m \u001B[0mself\u001B[0m\u001B[1;33m.\u001B[0m\u001B[0m_getitem_tuple\u001B[0m\u001B[1;33m(\u001B[0m\u001B[0mkey\u001B[0m\u001B[1;33m)\u001B[0m\u001B[1;33m\u001B[0m\u001B[1;33m\u001B[0m\u001B[0m\n\u001B[0m\u001B[0;32m    890\u001B[0m         \u001B[1;32melse\u001B[0m\u001B[1;33m:\u001B[0m\u001B[1;33m\u001B[0m\u001B[1;33m\u001B[0m\u001B[0m\n\u001B[0;32m    891\u001B[0m             \u001B[1;31m# we by definition only have the 0th axis\u001B[0m\u001B[1;33m\u001B[0m\u001B[1;33m\u001B[0m\u001B[1;33m\u001B[0m\u001B[0m\n",
      "\u001B[1;32m~\\Documents\\Python\\ds-venv\\lib\\site-packages\\pandas\\core\\indexing.py\u001B[0m in \u001B[0;36m_getitem_tuple\u001B[1;34m(self, tup)\u001B[0m\n\u001B[0;32m   1065\u001B[0m         \u001B[1;31m# ugly hack for GH #836\u001B[0m\u001B[1;33m\u001B[0m\u001B[1;33m\u001B[0m\u001B[1;33m\u001B[0m\u001B[0m\n\u001B[0;32m   1066\u001B[0m         \u001B[1;32mif\u001B[0m \u001B[0mself\u001B[0m\u001B[1;33m.\u001B[0m\u001B[0m_multi_take_opportunity\u001B[0m\u001B[1;33m(\u001B[0m\u001B[0mtup\u001B[0m\u001B[1;33m)\u001B[0m\u001B[1;33m:\u001B[0m\u001B[1;33m\u001B[0m\u001B[1;33m\u001B[0m\u001B[0m\n\u001B[1;32m-> 1067\u001B[1;33m             \u001B[1;32mreturn\u001B[0m \u001B[0mself\u001B[0m\u001B[1;33m.\u001B[0m\u001B[0m_multi_take\u001B[0m\u001B[1;33m(\u001B[0m\u001B[0mtup\u001B[0m\u001B[1;33m)\u001B[0m\u001B[1;33m\u001B[0m\u001B[1;33m\u001B[0m\u001B[0m\n\u001B[0m\u001B[0;32m   1068\u001B[0m \u001B[1;33m\u001B[0m\u001B[0m\n\u001B[0;32m   1069\u001B[0m         \u001B[1;32mreturn\u001B[0m \u001B[0mself\u001B[0m\u001B[1;33m.\u001B[0m\u001B[0m_getitem_tuple_same_dim\u001B[0m\u001B[1;33m(\u001B[0m\u001B[0mtup\u001B[0m\u001B[1;33m)\u001B[0m\u001B[1;33m\u001B[0m\u001B[1;33m\u001B[0m\u001B[0m\n",
      "\u001B[1;32m~\\Documents\\Python\\ds-venv\\lib\\site-packages\\pandas\\core\\indexing.py\u001B[0m in \u001B[0;36m_multi_take\u001B[1;34m(self, tup)\u001B[0m\n\u001B[0;32m   1019\u001B[0m         d = {\n\u001B[0;32m   1020\u001B[0m             \u001B[0maxis\u001B[0m\u001B[1;33m:\u001B[0m \u001B[0mself\u001B[0m\u001B[1;33m.\u001B[0m\u001B[0m_get_listlike_indexer\u001B[0m\u001B[1;33m(\u001B[0m\u001B[0mkey\u001B[0m\u001B[1;33m,\u001B[0m \u001B[0maxis\u001B[0m\u001B[1;33m)\u001B[0m\u001B[1;33m\u001B[0m\u001B[1;33m\u001B[0m\u001B[0m\n\u001B[1;32m-> 1021\u001B[1;33m             \u001B[1;32mfor\u001B[0m \u001B[1;33m(\u001B[0m\u001B[0mkey\u001B[0m\u001B[1;33m,\u001B[0m \u001B[0maxis\u001B[0m\u001B[1;33m)\u001B[0m \u001B[1;32min\u001B[0m \u001B[0mzip\u001B[0m\u001B[1;33m(\u001B[0m\u001B[0mtup\u001B[0m\u001B[1;33m,\u001B[0m \u001B[0mself\u001B[0m\u001B[1;33m.\u001B[0m\u001B[0mobj\u001B[0m\u001B[1;33m.\u001B[0m\u001B[0m_AXIS_ORDERS\u001B[0m\u001B[1;33m)\u001B[0m\u001B[1;33m\u001B[0m\u001B[1;33m\u001B[0m\u001B[0m\n\u001B[0m\u001B[0;32m   1022\u001B[0m         }\n\u001B[0;32m   1023\u001B[0m         \u001B[1;32mreturn\u001B[0m \u001B[0mself\u001B[0m\u001B[1;33m.\u001B[0m\u001B[0mobj\u001B[0m\u001B[1;33m.\u001B[0m\u001B[0m_reindex_with_indexers\u001B[0m\u001B[1;33m(\u001B[0m\u001B[0md\u001B[0m\u001B[1;33m,\u001B[0m \u001B[0mcopy\u001B[0m\u001B[1;33m=\u001B[0m\u001B[1;32mTrue\u001B[0m\u001B[1;33m,\u001B[0m \u001B[0mallow_dups\u001B[0m\u001B[1;33m=\u001B[0m\u001B[1;32mTrue\u001B[0m\u001B[1;33m)\u001B[0m\u001B[1;33m\u001B[0m\u001B[1;33m\u001B[0m\u001B[0m\n",
      "\u001B[1;32m~\\Documents\\Python\\ds-venv\\lib\\site-packages\\pandas\\core\\indexing.py\u001B[0m in \u001B[0;36m<dictcomp>\u001B[1;34m(.0)\u001B[0m\n\u001B[0;32m   1019\u001B[0m         d = {\n\u001B[0;32m   1020\u001B[0m             \u001B[0maxis\u001B[0m\u001B[1;33m:\u001B[0m \u001B[0mself\u001B[0m\u001B[1;33m.\u001B[0m\u001B[0m_get_listlike_indexer\u001B[0m\u001B[1;33m(\u001B[0m\u001B[0mkey\u001B[0m\u001B[1;33m,\u001B[0m \u001B[0maxis\u001B[0m\u001B[1;33m)\u001B[0m\u001B[1;33m\u001B[0m\u001B[1;33m\u001B[0m\u001B[0m\n\u001B[1;32m-> 1021\u001B[1;33m             \u001B[1;32mfor\u001B[0m \u001B[1;33m(\u001B[0m\u001B[0mkey\u001B[0m\u001B[1;33m,\u001B[0m \u001B[0maxis\u001B[0m\u001B[1;33m)\u001B[0m \u001B[1;32min\u001B[0m \u001B[0mzip\u001B[0m\u001B[1;33m(\u001B[0m\u001B[0mtup\u001B[0m\u001B[1;33m,\u001B[0m \u001B[0mself\u001B[0m\u001B[1;33m.\u001B[0m\u001B[0mobj\u001B[0m\u001B[1;33m.\u001B[0m\u001B[0m_AXIS_ORDERS\u001B[0m\u001B[1;33m)\u001B[0m\u001B[1;33m\u001B[0m\u001B[1;33m\u001B[0m\u001B[0m\n\u001B[0m\u001B[0;32m   1022\u001B[0m         }\n\u001B[0;32m   1023\u001B[0m         \u001B[1;32mreturn\u001B[0m \u001B[0mself\u001B[0m\u001B[1;33m.\u001B[0m\u001B[0mobj\u001B[0m\u001B[1;33m.\u001B[0m\u001B[0m_reindex_with_indexers\u001B[0m\u001B[1;33m(\u001B[0m\u001B[0md\u001B[0m\u001B[1;33m,\u001B[0m \u001B[0mcopy\u001B[0m\u001B[1;33m=\u001B[0m\u001B[1;32mTrue\u001B[0m\u001B[1;33m,\u001B[0m \u001B[0mallow_dups\u001B[0m\u001B[1;33m=\u001B[0m\u001B[1;32mTrue\u001B[0m\u001B[1;33m)\u001B[0m\u001B[1;33m\u001B[0m\u001B[1;33m\u001B[0m\u001B[0m\n",
      "\u001B[1;32m~\\Documents\\Python\\ds-venv\\lib\\site-packages\\pandas\\core\\indexing.py\u001B[0m in \u001B[0;36m_get_listlike_indexer\u001B[1;34m(self, key, axis, raise_missing)\u001B[0m\n\u001B[0;32m   1264\u001B[0m             \u001B[0mkeyarr\u001B[0m\u001B[1;33m,\u001B[0m \u001B[0mindexer\u001B[0m\u001B[1;33m,\u001B[0m \u001B[0mnew_indexer\u001B[0m \u001B[1;33m=\u001B[0m \u001B[0max\u001B[0m\u001B[1;33m.\u001B[0m\u001B[0m_reindex_non_unique\u001B[0m\u001B[1;33m(\u001B[0m\u001B[0mkeyarr\u001B[0m\u001B[1;33m)\u001B[0m\u001B[1;33m\u001B[0m\u001B[1;33m\u001B[0m\u001B[0m\n\u001B[0;32m   1265\u001B[0m \u001B[1;33m\u001B[0m\u001B[0m\n\u001B[1;32m-> 1266\u001B[1;33m         \u001B[0mself\u001B[0m\u001B[1;33m.\u001B[0m\u001B[0m_validate_read_indexer\u001B[0m\u001B[1;33m(\u001B[0m\u001B[0mkeyarr\u001B[0m\u001B[1;33m,\u001B[0m \u001B[0mindexer\u001B[0m\u001B[1;33m,\u001B[0m \u001B[0maxis\u001B[0m\u001B[1;33m,\u001B[0m \u001B[0mraise_missing\u001B[0m\u001B[1;33m=\u001B[0m\u001B[0mraise_missing\u001B[0m\u001B[1;33m)\u001B[0m\u001B[1;33m\u001B[0m\u001B[1;33m\u001B[0m\u001B[0m\n\u001B[0m\u001B[0;32m   1267\u001B[0m         \u001B[1;32mreturn\u001B[0m \u001B[0mkeyarr\u001B[0m\u001B[1;33m,\u001B[0m \u001B[0mindexer\u001B[0m\u001B[1;33m\u001B[0m\u001B[1;33m\u001B[0m\u001B[0m\n\u001B[0;32m   1268\u001B[0m \u001B[1;33m\u001B[0m\u001B[0m\n",
      "\u001B[1;32m~\\Documents\\Python\\ds-venv\\lib\\site-packages\\pandas\\core\\indexing.py\u001B[0m in \u001B[0;36m_validate_read_indexer\u001B[1;34m(self, key, indexer, axis, raise_missing)\u001B[0m\n\u001B[0;32m   1306\u001B[0m             \u001B[1;32mif\u001B[0m \u001B[0mmissing\u001B[0m \u001B[1;33m==\u001B[0m \u001B[0mlen\u001B[0m\u001B[1;33m(\u001B[0m\u001B[0mindexer\u001B[0m\u001B[1;33m)\u001B[0m\u001B[1;33m:\u001B[0m\u001B[1;33m\u001B[0m\u001B[1;33m\u001B[0m\u001B[0m\n\u001B[0;32m   1307\u001B[0m                 \u001B[0maxis_name\u001B[0m \u001B[1;33m=\u001B[0m \u001B[0mself\u001B[0m\u001B[1;33m.\u001B[0m\u001B[0mobj\u001B[0m\u001B[1;33m.\u001B[0m\u001B[0m_get_axis_name\u001B[0m\u001B[1;33m(\u001B[0m\u001B[0maxis\u001B[0m\u001B[1;33m)\u001B[0m\u001B[1;33m\u001B[0m\u001B[1;33m\u001B[0m\u001B[0m\n\u001B[1;32m-> 1308\u001B[1;33m                 \u001B[1;32mraise\u001B[0m \u001B[0mKeyError\u001B[0m\u001B[1;33m(\u001B[0m\u001B[1;34mf\"None of [{key}] are in the [{axis_name}]\"\u001B[0m\u001B[1;33m)\u001B[0m\u001B[1;33m\u001B[0m\u001B[1;33m\u001B[0m\u001B[0m\n\u001B[0m\u001B[0;32m   1309\u001B[0m \u001B[1;33m\u001B[0m\u001B[0m\n\u001B[0;32m   1310\u001B[0m             \u001B[0max\u001B[0m \u001B[1;33m=\u001B[0m \u001B[0mself\u001B[0m\u001B[1;33m.\u001B[0m\u001B[0mobj\u001B[0m\u001B[1;33m.\u001B[0m\u001B[0m_get_axis\u001B[0m\u001B[1;33m(\u001B[0m\u001B[0maxis\u001B[0m\u001B[1;33m)\u001B[0m\u001B[1;33m\u001B[0m\u001B[1;33m\u001B[0m\u001B[0m\n",
      "\u001B[1;31mKeyError\u001B[0m: \"None of [Int64Index([14, 214, 448, 562, 766, 826, 909, 1079, 1133, 1446, 1532], dtype='int64', name='Date')] are in the [index]\""
     ]
    }
   ],
   "source": [
    "transformer = BaseTrader()\n",
    "transformer.find_base(data)\n",
    "data.columns\n"
   ],
   "metadata": {
    "collapsed": false,
    "pycharm": {
     "name": "#%%\n"
    }
   }
  },
  {
   "cell_type": "code",
   "execution_count": 53,
   "outputs": [],
   "source": [
    "def find_base(data, price = 'Close', duration = 50, support = True):\n",
    "    if support:\n",
    "        base = 'Support'\n",
    "        comparator = np.less_equal\n",
    "    else:\n",
    "        base = 'Resistance'\n",
    "        comparator = np.greater_equal\n",
    "    support_ix =  argrelextrema(data[price].values, comparator, order = duration)\n",
    "    data[base] = data.loc[support_ix, price]\n",
    "\n",
    "    line_range = len(data) // 50\n",
    "    data[f\"{base} Line\"] = data[base].fillna(method='ffill', limit = line_range)\n",
    "    data[f\"{base} Line\"].fillna(method='bfill', limit=line_range, inplace=True)"
   ],
   "metadata": {
    "collapsed": false,
    "pycharm": {
     "name": "#%%\n"
    }
   }
  },
  {
   "cell_type": "code",
   "execution_count": 54,
   "outputs": [],
   "source": [
    "find_base(data)"
   ],
   "metadata": {
    "collapsed": false,
    "pycharm": {
     "name": "#%%\n"
    }
   }
  },
  {
   "cell_type": "code",
   "execution_count": 49,
   "outputs": [
    {
     "data": {
      "text/plain": "1828"
     },
     "execution_count": 49,
     "metadata": {},
     "output_type": "execute_result"
    }
   ],
   "source": [
    "len(data)"
   ],
   "metadata": {
    "collapsed": false,
    "pycharm": {
     "name": "#%%\n"
    }
   }
  },
  {
   "cell_type": "code",
   "execution_count": 16,
   "outputs": [],
   "source": [
    "pd.set_option('display.max_rows', None)"
   ],
   "metadata": {
    "collapsed": false,
    "pycharm": {
     "name": "#%%\n"
    }
   }
  },
  {
   "cell_type": "code",
   "execution_count": 45,
   "outputs": [
    {
     "data": {
      "text/plain": "0               NaN\n1               NaN\n2               NaN\n3               NaN\n4               NaN\n5               NaN\n6               NaN\n7               NaN\n8               NaN\n9               NaN\n10              NaN\n11              NaN\n12              NaN\n13              NaN\n14       364.330994\n15       364.330994\n16       364.330994\n17       364.330994\n18       364.330994\n19       364.330994\n20       364.330994\n21       364.330994\n22       364.330994\n23       364.330994\n24       364.330994\n25       364.330994\n26       364.330994\n27       364.330994\n28       364.330994\n29       364.330994\n30       364.330994\n31       364.330994\n32       364.330994\n33       364.330994\n34       364.330994\n35       364.330994\n36       364.330994\n37       364.330994\n38       364.330994\n39       364.330994\n40              NaN\n41              NaN\n42              NaN\n43              NaN\n44              NaN\n45              NaN\n46              NaN\n47              NaN\n48              NaN\n49              NaN\n50              NaN\n51              NaN\n52              NaN\n53              NaN\n54              NaN\n55              NaN\n56              NaN\n57              NaN\n58              NaN\n59              NaN\n60              NaN\n61              NaN\n62              NaN\n63              NaN\n64              NaN\n65              NaN\n66              NaN\n67              NaN\n68              NaN\n69              NaN\n70              NaN\n71              NaN\n72              NaN\n73              NaN\n74              NaN\n75              NaN\n76              NaN\n77              NaN\n78              NaN\n79              NaN\n80              NaN\n81              NaN\n82              NaN\n83              NaN\n84              NaN\n85              NaN\n86              NaN\n87              NaN\n88              NaN\n89              NaN\n90              NaN\n91              NaN\n92              NaN\n93              NaN\n94              NaN\n95              NaN\n96              NaN\n97              NaN\n98              NaN\n99              NaN\n100             NaN\n101             NaN\n102             NaN\n103             NaN\n104             NaN\n105             NaN\n106             NaN\n107             NaN\n108             NaN\n109             NaN\n110             NaN\n111             NaN\n112             NaN\n113             NaN\n114             NaN\n115             NaN\n116             NaN\n117             NaN\n118             NaN\n119             NaN\n120             NaN\n121             NaN\n122             NaN\n123             NaN\n124             NaN\n125             NaN\n126             NaN\n127             NaN\n128             NaN\n129             NaN\n130             NaN\n131             NaN\n132             NaN\n133             NaN\n134             NaN\n135             NaN\n136             NaN\n137             NaN\n138             NaN\n139             NaN\n140             NaN\n141             NaN\n142             NaN\n143             NaN\n144             NaN\n145             NaN\n146             NaN\n147             NaN\n148             NaN\n149             NaN\n150             NaN\n151             NaN\n152             NaN\n153             NaN\n154             NaN\n155             NaN\n156             NaN\n157             NaN\n158             NaN\n159             NaN\n160             NaN\n161             NaN\n162             NaN\n163             NaN\n164             NaN\n165             NaN\n166             NaN\n167             NaN\n168             NaN\n169             NaN\n170             NaN\n171             NaN\n172             NaN\n173             NaN\n174             NaN\n175             NaN\n176             NaN\n177             NaN\n178             NaN\n179             NaN\n180             NaN\n181             NaN\n182             NaN\n183             NaN\n184             NaN\n185             NaN\n186             NaN\n187             NaN\n188             NaN\n189             NaN\n190             NaN\n191             NaN\n192             NaN\n193             NaN\n194             NaN\n195             NaN\n196             NaN\n197             NaN\n198             NaN\n199             NaN\n200             NaN\n201             NaN\n202             NaN\n203             NaN\n204             NaN\n205             NaN\n206             NaN\n207             NaN\n208             NaN\n209             NaN\n210             NaN\n211             NaN\n212             NaN\n213             NaN\n214      547.465027\n215      547.465027\n216      547.465027\n217      547.465027\n218      547.465027\n219      547.465027\n220      547.465027\n221      547.465027\n222      547.465027\n223      547.465027\n224      547.465027\n225      547.465027\n226      547.465027\n227      547.465027\n228      547.465027\n229      547.465027\n230      547.465027\n231      547.465027\n232      547.465027\n233      547.465027\n234      547.465027\n235      547.465027\n236      547.465027\n237      547.465027\n238      547.465027\n239      547.465027\n240             NaN\n241             NaN\n242             NaN\n243             NaN\n244             NaN\n245             NaN\n246             NaN\n247             NaN\n248             NaN\n249             NaN\n250             NaN\n251             NaN\n252             NaN\n253             NaN\n254             NaN\n255             NaN\n256             NaN\n257             NaN\n258             NaN\n259             NaN\n260             NaN\n261             NaN\n262             NaN\n263             NaN\n264             NaN\n265             NaN\n266             NaN\n267             NaN\n268             NaN\n269             NaN\n270             NaN\n271             NaN\n272             NaN\n273             NaN\n274             NaN\n275             NaN\n276             NaN\n277             NaN\n278             NaN\n279             NaN\n280             NaN\n281             NaN\n282             NaN\n283             NaN\n284             NaN\n285             NaN\n286             NaN\n287             NaN\n288             NaN\n289             NaN\n290             NaN\n291             NaN\n292             NaN\n293             NaN\n294             NaN\n295             NaN\n296             NaN\n297             NaN\n298             NaN\n299             NaN\n300             NaN\n301             NaN\n302             NaN\n303             NaN\n304             NaN\n305             NaN\n306             NaN\n307             NaN\n308             NaN\n309             NaN\n310             NaN\n311             NaN\n312             NaN\n313             NaN\n314             NaN\n315             NaN\n316             NaN\n317             NaN\n318             NaN\n319             NaN\n320             NaN\n321             NaN\n322             NaN\n323             NaN\n324             NaN\n325             NaN\n326             NaN\n327             NaN\n328             NaN\n329             NaN\n330             NaN\n331             NaN\n332             NaN\n333             NaN\n334             NaN\n335             NaN\n336             NaN\n337             NaN\n338             NaN\n339             NaN\n340             NaN\n341             NaN\n342             NaN\n343             NaN\n344             NaN\n345             NaN\n346             NaN\n347             NaN\n348             NaN\n349             NaN\n350             NaN\n351             NaN\n352             NaN\n353             NaN\n354             NaN\n355             NaN\n356             NaN\n357             NaN\n358             NaN\n359             NaN\n360             NaN\n361             NaN\n362             NaN\n363             NaN\n364             NaN\n365             NaN\n366             NaN\n367             NaN\n368             NaN\n369             NaN\n370             NaN\n371             NaN\n372             NaN\n373             NaN\n374             NaN\n375             NaN\n376             NaN\n377             NaN\n378             NaN\n379             NaN\n380             NaN\n381             NaN\n382             NaN\n383             NaN\n384             NaN\n385             NaN\n386             NaN\n387             NaN\n388             NaN\n389             NaN\n390             NaN\n391             NaN\n392             NaN\n393             NaN\n394             NaN\n395             NaN\n396             NaN\n397             NaN\n398             NaN\n399             NaN\n400             NaN\n401             NaN\n402             NaN\n403             NaN\n404             NaN\n405             NaN\n406             NaN\n407             NaN\n408             NaN\n409             NaN\n410             NaN\n411             NaN\n412             NaN\n413             NaN\n414             NaN\n415             NaN\n416             NaN\n417             NaN\n418             NaN\n419             NaN\n420             NaN\n421             NaN\n422             NaN\n423             NaN\n424             NaN\n425             NaN\n426             NaN\n427             NaN\n428             NaN\n429             NaN\n430             NaN\n431             NaN\n432             NaN\n433             NaN\n434             NaN\n435             NaN\n436             NaN\n437             NaN\n438             NaN\n439             NaN\n440             NaN\n441             NaN\n442             NaN\n443             NaN\n444             NaN\n445             NaN\n446             NaN\n447             NaN\n448      937.520020\n449      937.520020\n450      937.520020\n451      937.520020\n452      937.520020\n453      937.520020\n454      937.520020\n455      937.520020\n456      937.520020\n457      937.520020\n458      937.520020\n459      937.520020\n460      937.520020\n461      937.520020\n462      937.520020\n463      937.520020\n464      937.520020\n465      937.520020\n466      937.520020\n467      937.520020\n468      937.520020\n469      937.520020\n470      937.520020\n471      937.520020\n472      937.520020\n473      937.520020\n474             NaN\n475             NaN\n476             NaN\n477             NaN\n478             NaN\n479             NaN\n480             NaN\n481             NaN\n482             NaN\n483             NaN\n484             NaN\n485             NaN\n486             NaN\n487             NaN\n488             NaN\n489             NaN\n490             NaN\n491             NaN\n492             NaN\n493             NaN\n494             NaN\n495             NaN\n496             NaN\n497             NaN\n498             NaN\n499             NaN\n500             NaN\n501             NaN\n502             NaN\n503             NaN\n504             NaN\n505             NaN\n506             NaN\n507             NaN\n508             NaN\n509             NaN\n510             NaN\n511             NaN\n512             NaN\n513             NaN\n514             NaN\n515             NaN\n516             NaN\n517             NaN\n518             NaN\n519             NaN\n520             NaN\n521             NaN\n522             NaN\n523             NaN\n524             NaN\n525             NaN\n526             NaN\n527             NaN\n528             NaN\n529             NaN\n530             NaN\n531             NaN\n532             NaN\n533             NaN\n534             NaN\n535             NaN\n536             NaN\n537             NaN\n538             NaN\n539             NaN\n540             NaN\n541             NaN\n542             NaN\n543             NaN\n544             NaN\n545             NaN\n546             NaN\n547             NaN\n548             NaN\n549             NaN\n550             NaN\n551             NaN\n552             NaN\n553             NaN\n554             NaN\n555             NaN\n556             NaN\n557             NaN\n558             NaN\n559             NaN\n560             NaN\n561             NaN\n562     1929.819946\n563     1929.819946\n564     1929.819946\n565     1929.819946\n566     1929.819946\n567     1929.819946\n568     1929.819946\n569     1929.819946\n570     1929.819946\n571     1929.819946\n572     1929.819946\n573     1929.819946\n574     1929.819946\n575     1929.819946\n576     1929.819946\n577     1929.819946\n578     1929.819946\n579     1929.819946\n580     1929.819946\n581     1929.819946\n582     1929.819946\n583     1929.819946\n584     1929.819946\n585     1929.819946\n586     1929.819946\n587     1929.819946\n588             NaN\n589             NaN\n590             NaN\n591             NaN\n592             NaN\n593             NaN\n594             NaN\n595             NaN\n596             NaN\n597             NaN\n598             NaN\n599             NaN\n600             NaN\n601             NaN\n602             NaN\n603             NaN\n604             NaN\n605             NaN\n606             NaN\n607             NaN\n608             NaN\n609             NaN\n610             NaN\n611             NaN\n612             NaN\n613             NaN\n614             NaN\n615             NaN\n616             NaN\n617             NaN\n618             NaN\n619             NaN\n620             NaN\n621             NaN\n622             NaN\n623             NaN\n624             NaN\n625             NaN\n626             NaN\n627             NaN\n628             NaN\n629             NaN\n630             NaN\n631             NaN\n632             NaN\n633             NaN\n634             NaN\n635             NaN\n636             NaN\n637             NaN\n638             NaN\n639             NaN\n640             NaN\n641             NaN\n642             NaN\n643             NaN\n644             NaN\n645             NaN\n646             NaN\n647             NaN\n648             NaN\n649             NaN\n650             NaN\n651             NaN\n652             NaN\n653             NaN\n654             NaN\n655             NaN\n656             NaN\n657             NaN\n658             NaN\n659             NaN\n660             NaN\n661             NaN\n662             NaN\n663             NaN\n664             NaN\n665             NaN\n666             NaN\n667             NaN\n668             NaN\n669             NaN\n670             NaN\n671             NaN\n672             NaN\n673             NaN\n674             NaN\n675             NaN\n676             NaN\n677             NaN\n678             NaN\n679             NaN\n680             NaN\n681             NaN\n682             NaN\n683             NaN\n684             NaN\n685             NaN\n686             NaN\n687             NaN\n688             NaN\n689             NaN\n690             NaN\n691             NaN\n692             NaN\n693             NaN\n694             NaN\n695             NaN\n696             NaN\n697             NaN\n698             NaN\n699             NaN\n700             NaN\n701             NaN\n702             NaN\n703             NaN\n704             NaN\n705             NaN\n706             NaN\n707             NaN\n708             NaN\n709             NaN\n710             NaN\n711             NaN\n712             NaN\n713             NaN\n714             NaN\n715             NaN\n716             NaN\n717             NaN\n718             NaN\n719             NaN\n720             NaN\n721             NaN\n722             NaN\n723             NaN\n724             NaN\n725             NaN\n726             NaN\n727             NaN\n728             NaN\n729             NaN\n730             NaN\n731             NaN\n732             NaN\n733             NaN\n734             NaN\n735             NaN\n736             NaN\n737             NaN\n738             NaN\n739             NaN\n740             NaN\n741             NaN\n742             NaN\n743             NaN\n744             NaN\n745             NaN\n746             NaN\n747             NaN\n748             NaN\n749             NaN\n750             NaN\n751             NaN\n752             NaN\n753             NaN\n754             NaN\n755             NaN\n756             NaN\n757             NaN\n758             NaN\n759             NaN\n760             NaN\n761             NaN\n762             NaN\n763             NaN\n764             NaN\n765             NaN\n766     6955.270020\n767     6955.270020\n768     6955.270020\n769     6955.270020\n770     6955.270020\n771     6955.270020\n772     6955.270020\n773     6955.270020\n774     6955.270020\n775     6955.270020\n776     6955.270020\n777     6955.270020\n778     6955.270020\n779     6955.270020\n780     6955.270020\n781     6955.270020\n782     6955.270020\n783     6955.270020\n784     6955.270020\n785     6955.270020\n786     6955.270020\n787     6955.270020\n788     6955.270020\n789     6955.270020\n790     6955.270020\n791     6955.270020\n792             NaN\n793             NaN\n794             NaN\n795             NaN\n796             NaN\n797             NaN\n798             NaN\n799             NaN\n800             NaN\n801             NaN\n802             NaN\n803             NaN\n804             NaN\n805             NaN\n806             NaN\n807             NaN\n808             NaN\n809             NaN\n810             NaN\n811             NaN\n812             NaN\n813             NaN\n814             NaN\n815             NaN\n816             NaN\n817             NaN\n818             NaN\n819             NaN\n820             NaN\n821             NaN\n822             NaN\n823             NaN\n824             NaN\n825             NaN\n826     6636.319824\n827     6636.319824\n828     6636.319824\n829     6636.319824\n830     6636.319824\n831     6636.319824\n832     6636.319824\n833     6636.319824\n834     6636.319824\n835     6636.319824\n836     6636.319824\n837     6636.319824\n838     6636.319824\n839     6636.319824\n840     6636.319824\n841     6636.319824\n842     6636.319824\n843     6636.319824\n844     6636.319824\n845     6636.319824\n846     6636.319824\n847     6636.319824\n848     6636.319824\n849     6636.319824\n850     6636.319824\n851     6636.319824\n852             NaN\n853             NaN\n854             NaN\n855             NaN\n856             NaN\n857             NaN\n858             NaN\n859             NaN\n860             NaN\n861             NaN\n862             NaN\n863             NaN\n864             NaN\n865             NaN\n866             NaN\n867             NaN\n868             NaN\n869             NaN\n870             NaN\n871             NaN\n872             NaN\n873             NaN\n874             NaN\n875             NaN\n876             NaN\n877             NaN\n878             NaN\n879             NaN\n880             NaN\n881             NaN\n882             NaN\n883             NaN\n884             NaN\n885             NaN\n886             NaN\n887             NaN\n888             NaN\n889             NaN\n890             NaN\n891             NaN\n892             NaN\n893             NaN\n894             NaN\n895             NaN\n896             NaN\n897             NaN\n898             NaN\n899             NaN\n900             NaN\n901             NaN\n902             NaN\n903             NaN\n904             NaN\n905             NaN\n906             NaN\n907             NaN\n908             NaN\n909     5903.439941\n910     5903.439941\n911     5903.439941\n912     5903.439941\n913     5903.439941\n914     5903.439941\n915     5903.439941\n916     5903.439941\n917     5903.439941\n918     5903.439941\n919     5903.439941\n920     5903.439941\n921     5903.439941\n922     5903.439941\n923     5903.439941\n924     5903.439941\n925     5903.439941\n926     5903.439941\n927     5903.439941\n928     5903.439941\n929     5903.439941\n930     5903.439941\n931     5903.439941\n932     5903.439941\n933     5903.439941\n934     5903.439941\n935             NaN\n936             NaN\n937             NaN\n938             NaN\n939             NaN\n940             NaN\n941             NaN\n942             NaN\n943             NaN\n944             NaN\n945             NaN\n946             NaN\n947             NaN\n948             NaN\n949             NaN\n950             NaN\n951             NaN\n952             NaN\n953             NaN\n954             NaN\n955             NaN\n956             NaN\n957             NaN\n958             NaN\n959             NaN\n960             NaN\n961             NaN\n962             NaN\n963             NaN\n964             NaN\n965             NaN\n966             NaN\n967             NaN\n968             NaN\n969             NaN\n970             NaN\n971             NaN\n972             NaN\n973             NaN\n974             NaN\n975             NaN\n976             NaN\n977             NaN\n978             NaN\n979             NaN\n980             NaN\n981             NaN\n982             NaN\n983             NaN\n984             NaN\n985             NaN\n986             NaN\n987             NaN\n988             NaN\n989             NaN\n990             NaN\n991             NaN\n992             NaN\n993             NaN\n994             NaN\n995             NaN\n996             NaN\n997             NaN\n998             NaN\n999             NaN\n1000            NaN\n1001            NaN\n1002            NaN\n1003            NaN\n1004            NaN\n1005            NaN\n1006            NaN\n1007            NaN\n1008            NaN\n1009            NaN\n1010            NaN\n1011            NaN\n1012            NaN\n1013            NaN\n1014            NaN\n1015            NaN\n1016            NaN\n1017            NaN\n1018            NaN\n1019            NaN\n1020            NaN\n1021            NaN\n1022            NaN\n1023            NaN\n1024            NaN\n1025            NaN\n1026            NaN\n1027            NaN\n1028            NaN\n1029            NaN\n1030            NaN\n1031            NaN\n1032            NaN\n1033            NaN\n1034            NaN\n1035            NaN\n1036            NaN\n1037            NaN\n1038            NaN\n1039            NaN\n1040            NaN\n1041            NaN\n1042            NaN\n1043            NaN\n1044            NaN\n1045            NaN\n1046            NaN\n1047            NaN\n1048            NaN\n1049            NaN\n1050            NaN\n1051            NaN\n1052            NaN\n1053            NaN\n1054            NaN\n1055            NaN\n1056            NaN\n1057            NaN\n1058            NaN\n1059            NaN\n1060            NaN\n1061            NaN\n1062            NaN\n1063            NaN\n1064            NaN\n1065            NaN\n1066            NaN\n1067            NaN\n1068            NaN\n1069            NaN\n1070            NaN\n1071            NaN\n1072            NaN\n1073            NaN\n1074            NaN\n1075            NaN\n1076            NaN\n1077            NaN\n1078            NaN\n1079    3236.761719\n1080    3236.761719\n1081    3236.761719\n1082    3236.761719\n1083    3236.761719\n1084    3236.761719\n1085    3236.761719\n1086    3236.761719\n1087    3236.761719\n1088    3236.761719\n1089    3236.761719\n1090    3236.761719\n1091    3236.761719\n1092    3236.761719\n1093    3236.761719\n1094    3236.761719\n1095    3236.761719\n1096    3236.761719\n1097    3236.761719\n1098    3236.761719\n1099    3236.761719\n1100    3236.761719\n1101    3236.761719\n1102    3236.761719\n1103    3236.761719\n1104    3236.761719\n1105            NaN\n1106            NaN\n1107            NaN\n1108            NaN\n1109            NaN\n1110            NaN\n1111            NaN\n1112            NaN\n1113            NaN\n1114            NaN\n1115            NaN\n1116            NaN\n1117            NaN\n1118            NaN\n1119            NaN\n1120            NaN\n1121            NaN\n1122            NaN\n1123            NaN\n1124            NaN\n1125            NaN\n1126            NaN\n1127            NaN\n1128            NaN\n1129            NaN\n1130            NaN\n1131            NaN\n1132            NaN\n1133    3399.471680\n1134    3399.471680\n1135    3399.471680\n1136    3399.471680\n1137    3399.471680\n1138    3399.471680\n1139    3399.471680\n1140    3399.471680\n1141    3399.471680\n1142    3399.471680\n1143    3399.471680\n1144    3399.471680\n1145    3399.471680\n1146    3399.471680\n1147    3399.471680\n1148    3399.471680\n1149    3399.471680\n1150    3399.471680\n1151    3399.471680\n1152    3399.471680\n1153    3399.471680\n1154    3399.471680\n1155    3399.471680\n1156    3399.471680\n1157    3399.471680\n1158    3399.471680\n1159            NaN\n1160            NaN\n1161            NaN\n1162            NaN\n1163            NaN\n1164            NaN\n1165            NaN\n1166            NaN\n1167            NaN\n1168            NaN\n1169            NaN\n1170            NaN\n1171            NaN\n1172            NaN\n1173            NaN\n1174            NaN\n1175            NaN\n1176            NaN\n1177            NaN\n1178            NaN\n1179            NaN\n1180            NaN\n1181            NaN\n1182            NaN\n1183            NaN\n1184            NaN\n1185            NaN\n1186            NaN\n1187            NaN\n1188            NaN\n1189            NaN\n1190            NaN\n1191            NaN\n1192            NaN\n1193            NaN\n1194            NaN\n1195            NaN\n1196            NaN\n1197            NaN\n1198            NaN\n1199            NaN\n1200            NaN\n1201            NaN\n1202            NaN\n1203            NaN\n1204            NaN\n1205            NaN\n1206            NaN\n1207            NaN\n1208            NaN\n1209            NaN\n1210            NaN\n1211            NaN\n1212            NaN\n1213            NaN\n1214            NaN\n1215            NaN\n1216            NaN\n1217            NaN\n1218            NaN\n1219            NaN\n1220            NaN\n1221            NaN\n1222            NaN\n1223            NaN\n1224            NaN\n1225            NaN\n1226            NaN\n1227            NaN\n1228            NaN\n1229            NaN\n1230            NaN\n1231            NaN\n1232            NaN\n1233            NaN\n1234            NaN\n1235            NaN\n1236            NaN\n1237            NaN\n1238            NaN\n1239            NaN\n1240            NaN\n1241            NaN\n1242            NaN\n1243            NaN\n1244            NaN\n1245            NaN\n1246            NaN\n1247            NaN\n1248            NaN\n1249            NaN\n1250            NaN\n1251            NaN\n1252            NaN\n1253            NaN\n1254            NaN\n1255            NaN\n1256            NaN\n1257            NaN\n1258            NaN\n1259            NaN\n1260            NaN\n1261            NaN\n1262            NaN\n1263            NaN\n1264            NaN\n1265            NaN\n1266            NaN\n1267            NaN\n1268            NaN\n1269            NaN\n1270            NaN\n1271            NaN\n1272            NaN\n1273            NaN\n1274            NaN\n1275            NaN\n1276            NaN\n1277            NaN\n1278            NaN\n1279            NaN\n1280            NaN\n1281            NaN\n1282            NaN\n1283            NaN\n1284            NaN\n1285            NaN\n1286            NaN\n1287            NaN\n1288            NaN\n1289            NaN\n1290            NaN\n1291            NaN\n1292            NaN\n1293            NaN\n1294            NaN\n1295            NaN\n1296            NaN\n1297            NaN\n1298            NaN\n1299            NaN\n1300            NaN\n1301            NaN\n1302            NaN\n1303            NaN\n1304            NaN\n1305            NaN\n1306            NaN\n1307            NaN\n1308            NaN\n1309            NaN\n1310            NaN\n1311            NaN\n1312            NaN\n1313            NaN\n1314            NaN\n1315            NaN\n1316            NaN\n1317            NaN\n1318            NaN\n1319            NaN\n1320            NaN\n1321            NaN\n1322            NaN\n1323            NaN\n1324            NaN\n1325            NaN\n1326            NaN\n1327            NaN\n1328            NaN\n1329            NaN\n1330            NaN\n1331            NaN\n1332            NaN\n1333            NaN\n1334            NaN\n1335            NaN\n1336            NaN\n1337            NaN\n1338            NaN\n1339            NaN\n1340            NaN\n1341            NaN\n1342            NaN\n1343            NaN\n1344            NaN\n1345            NaN\n1346            NaN\n1347            NaN\n1348            NaN\n1349            NaN\n1350            NaN\n1351            NaN\n1352            NaN\n1353            NaN\n1354            NaN\n1355            NaN\n1356            NaN\n1357            NaN\n1358            NaN\n1359            NaN\n1360            NaN\n1361            NaN\n1362            NaN\n1363            NaN\n1364            NaN\n1365            NaN\n1366            NaN\n1367            NaN\n1368            NaN\n1369            NaN\n1370            NaN\n1371            NaN\n1372            NaN\n1373            NaN\n1374            NaN\n1375            NaN\n1376            NaN\n1377            NaN\n1378            NaN\n1379            NaN\n1380            NaN\n1381            NaN\n1382            NaN\n1383            NaN\n1384            NaN\n1385            NaN\n1386            NaN\n1387            NaN\n1388            NaN\n1389            NaN\n1390            NaN\n1391            NaN\n1392            NaN\n1393            NaN\n1394            NaN\n1395            NaN\n1396            NaN\n1397            NaN\n1398            NaN\n1399            NaN\n1400            NaN\n1401            NaN\n1402            NaN\n1403            NaN\n1404            NaN\n1405            NaN\n1406            NaN\n1407            NaN\n1408            NaN\n1409            NaN\n1410            NaN\n1411            NaN\n1412            NaN\n1413            NaN\n1414            NaN\n1415            NaN\n1416            NaN\n1417            NaN\n1418            NaN\n1419            NaN\n1420            NaN\n1421            NaN\n1422            NaN\n1423            NaN\n1424            NaN\n1425            NaN\n1426            NaN\n1427            NaN\n1428            NaN\n1429            NaN\n1430            NaN\n1431            NaN\n1432            NaN\n1433            NaN\n1434            NaN\n1435            NaN\n1436            NaN\n1437            NaN\n1438            NaN\n1439            NaN\n1440            NaN\n1441            NaN\n1442            NaN\n1443            NaN\n1444            NaN\n1445            NaN\n1446    6640.515137\n1447    6640.515137\n1448    6640.515137\n1449    6640.515137\n1450    6640.515137\n1451    6640.515137\n1452    6640.515137\n1453    6640.515137\n1454    6640.515137\n1455    6640.515137\n1456    6640.515137\n1457    6640.515137\n1458    6640.515137\n1459    6640.515137\n1460    6640.515137\n1461    6640.515137\n1462    6640.515137\n1463    6640.515137\n1464    6640.515137\n1465    6640.515137\n1466    6640.515137\n1467    6640.515137\n1468    6640.515137\n1469    6640.515137\n1470    6640.515137\n1471    6640.515137\n1472            NaN\n1473            NaN\n1474            NaN\n1475            NaN\n1476            NaN\n1477            NaN\n1478            NaN\n1479            NaN\n1480            NaN\n1481            NaN\n1482            NaN\n1483            NaN\n1484            NaN\n1485            NaN\n1486            NaN\n1487            NaN\n1488            NaN\n1489            NaN\n1490            NaN\n1491            NaN\n1492            NaN\n1493            NaN\n1494            NaN\n1495            NaN\n1496            NaN\n1497            NaN\n1498            NaN\n1499            NaN\n1500            NaN\n1501            NaN\n1502            NaN\n1503            NaN\n1504            NaN\n1505            NaN\n1506            NaN\n1507            NaN\n1508            NaN\n1509            NaN\n1510            NaN\n1511            NaN\n1512            NaN\n1513            NaN\n1514            NaN\n1515            NaN\n1516            NaN\n1517            NaN\n1518            NaN\n1519            NaN\n1520            NaN\n1521            NaN\n1522            NaN\n1523            NaN\n1524            NaN\n1525            NaN\n1526            NaN\n1527            NaN\n1528            NaN\n1529            NaN\n1530            NaN\n1531            NaN\n1532            NaN\n1533            NaN\n1534            NaN\n1535            NaN\n1536            NaN\n1537            NaN\n1538            NaN\n1539            NaN\n1540            NaN\n1541            NaN\n1542            NaN\n1543            NaN\n1544            NaN\n1545            NaN\n1546            NaN\n1547            NaN\n1548            NaN\n1549            NaN\n1550            NaN\n1551            NaN\n1552            NaN\n1553            NaN\n1554            NaN\n1555            NaN\n1556            NaN\n1557            NaN\n1558            NaN\n1559            NaN\n1560            NaN\n1561            NaN\n1562            NaN\n1563            NaN\n1564            NaN\n1565            NaN\n1566            NaN\n1567            NaN\n1568            NaN\n1569            NaN\n1570            NaN\n1571            NaN\n1572            NaN\n1573            NaN\n1574            NaN\n1575            NaN\n1576            NaN\n1577            NaN\n1578            NaN\n1579            NaN\n1580            NaN\n1581            NaN\n1582            NaN\n1583            NaN\n1584            NaN\n1585            NaN\n1586            NaN\n1587            NaN\n1588            NaN\n1589            NaN\n1590            NaN\n1591            NaN\n1592            NaN\n1593            NaN\n1594            NaN\n1595            NaN\n1596            NaN\n1597            NaN\n1598            NaN\n1599            NaN\n1600            NaN\n1601            NaN\n1602            NaN\n1603            NaN\n1604            NaN\n1605            NaN\n1606            NaN\n1607            NaN\n1608            NaN\n1609            NaN\n1610            NaN\n1611            NaN\n1612            NaN\n1613            NaN\n1614            NaN\n1615            NaN\n1616            NaN\n1617            NaN\n1618            NaN\n1619            NaN\n1620            NaN\n1621            NaN\n1622            NaN\n1623            NaN\n1624            NaN\n1625            NaN\n1626            NaN\n1627            NaN\n1628            NaN\n1629            NaN\n1630            NaN\n1631            NaN\n1632            NaN\n1633            NaN\n1634            NaN\n1635            NaN\n1636            NaN\n1637            NaN\n1638            NaN\n1639            NaN\n1640            NaN\n1641            NaN\n1642            NaN\n1643            NaN\n1644            NaN\n1645            NaN\n1646            NaN\n1647            NaN\n1648            NaN\n1649            NaN\n1650            NaN\n1651            NaN\n1652            NaN\n1653            NaN\n1654            NaN\n1655            NaN\n1656            NaN\n1657            NaN\n1658            NaN\n1659            NaN\n1660            NaN\n1661            NaN\n1662            NaN\n1663            NaN\n1664            NaN\n1665            NaN\n1666            NaN\n1667            NaN\n1668            NaN\n1669            NaN\n1670            NaN\n1671            NaN\n1672            NaN\n1673            NaN\n1674            NaN\n1675            NaN\n1676            NaN\n1677            NaN\n1678            NaN\n1679            NaN\n1680            NaN\n1681            NaN\n1682            NaN\n1683            NaN\n1684            NaN\n1685            NaN\n1686            NaN\n1687            NaN\n1688            NaN\n1689            NaN\n1690            NaN\n1691            NaN\n1692            NaN\n1693            NaN\n1694            NaN\n1695            NaN\n1696            NaN\n1697            NaN\n1698            NaN\n1699            NaN\n1700            NaN\n1701            NaN\n1702            NaN\n1703            NaN\n1704            NaN\n1705            NaN\n1706            NaN\n1707            NaN\n1708            NaN\n1709            NaN\n1710            NaN\n1711            NaN\n1712            NaN\n1713            NaN\n1714            NaN\n1715            NaN\n1716            NaN\n1717            NaN\n1718            NaN\n1719            NaN\n1720            NaN\n1721            NaN\n1722            NaN\n1723            NaN\n1724            NaN\n1725            NaN\n1726            NaN\n1727            NaN\n1728            NaN\n1729            NaN\n1730            NaN\n1731            NaN\n1732            NaN\n1733            NaN\n1734            NaN\n1735            NaN\n1736            NaN\n1737            NaN\n1738            NaN\n1739            NaN\n1740            NaN\n1741            NaN\n1742            NaN\n1743            NaN\n1744            NaN\n1745            NaN\n1746            NaN\n1747            NaN\n1748            NaN\n1749            NaN\n1750            NaN\n1751            NaN\n1752            NaN\n1753            NaN\n1754            NaN\n1755            NaN\n1756            NaN\n1757            NaN\n1758            NaN\n1759            NaN\n1760            NaN\n1761            NaN\n1762            NaN\n1763            NaN\n1764            NaN\n1765            NaN\n1766            NaN\n1767            NaN\n1768            NaN\n1769            NaN\n1770            NaN\n1771            NaN\n1772            NaN\n1773            NaN\n1774            NaN\n1775            NaN\n1776            NaN\n1777            NaN\n1778            NaN\n1779            NaN\n1780            NaN\n1781            NaN\n1782            NaN\n1783            NaN\n1784            NaN\n1785            NaN\n1786            NaN\n1787            NaN\n1788            NaN\n1789            NaN\n1790            NaN\n1791            NaN\n1792            NaN\n1793            NaN\n1794            NaN\n1795            NaN\n1796            NaN\n1797            NaN\n1798            NaN\n1799            NaN\n1800            NaN\n1801            NaN\n1802            NaN\n1803            NaN\n1804            NaN\n1805            NaN\n1806            NaN\n1807            NaN\n1808            NaN\n1809            NaN\n1810            NaN\n1811            NaN\n1812            NaN\n1813            NaN\n1814            NaN\n1815            NaN\n1816            NaN\n1817            NaN\n1818            NaN\n1819            NaN\n1820            NaN\n1821            NaN\n1822            NaN\n1823            NaN\n1824            NaN\n1825            NaN\n1826            NaN\n1827            NaN\nName: Support, dtype: float64"
     },
     "execution_count": 45,
     "metadata": {},
     "output_type": "execute_result"
    }
   ],
   "source": [
    "data['Support'].fillna(method='ffill', limit = 25)"
   ],
   "metadata": {
    "collapsed": false,
    "pycharm": {
     "name": "#%%\n"
    }
   }
  },
  {
   "cell_type": "code",
   "execution_count": 21,
   "outputs": [],
   "source": [
    "find_base(data, support=False)"
   ],
   "metadata": {
    "collapsed": false,
    "pycharm": {
     "name": "#%%\n"
    }
   }
  },
  {
   "cell_type": "code",
   "execution_count": 22,
   "outputs": [
    {
     "data": {
      "text/plain": "0                NaN\n1                NaN\n2                NaN\n3                NaN\n4                NaN\n            ...     \n1823    12254.402344\n1824    12254.402344\n1825    12254.402344\n1826    12254.402344\n1827    29374.152344\nName: Resistance, Length: 1828, dtype: float64"
     },
     "execution_count": 22,
     "metadata": {},
     "output_type": "execute_result"
    }
   ],
   "source": [
    "data['Resistance']"
   ],
   "metadata": {
    "collapsed": false,
    "pycharm": {
     "name": "#%%\n"
    }
   }
  },
  {
   "cell_type": "code",
   "execution_count": 23,
   "outputs": [],
   "source": [],
   "metadata": {
    "collapsed": false,
    "pycharm": {
     "name": "#%%\n"
    }
   }
  },
  {
   "cell_type": "code",
   "execution_count": 64,
   "outputs": [
    {
     "data": {
      "text/plain": "14     364.330994\n214    547.465027\nName: Support, dtype: float64"
     },
     "execution_count": 64,
     "metadata": {},
     "output_type": "execute_result"
    }
   ],
   "source": [
    "data['Support'].loc[(data['Support'].notna()) & (data.index < 250)]"
   ],
   "metadata": {
    "collapsed": false,
    "pycharm": {
     "name": "#%%\n"
    }
   }
  },
  {
   "cell_type": "code",
   "execution_count": 69,
   "outputs": [
    {
     "data": {
      "text/plain": "0    434.334015\nName: Close, dtype: float64"
     },
     "execution_count": 69,
     "metadata": {},
     "output_type": "execute_result"
    }
   ],
   "source": [
    "data['Close'][0:1]"
   ],
   "metadata": {
    "collapsed": false,
    "pycharm": {
     "name": "#%%\n"
    }
   }
  },
  {
   "cell_type": "code",
   "execution_count": 59,
   "outputs": [
    {
     "data": {
      "text/plain": "RangeIndex(start=0, stop=1828, step=1)"
     },
     "execution_count": 59,
     "metadata": {},
     "output_type": "execute_result"
    }
   ],
   "source": [
    "data.index"
   ],
   "metadata": {
    "collapsed": false,
    "pycharm": {
     "name": "#%%\n"
    }
   }
  },
  {
   "cell_type": "code",
   "execution_count": 24,
   "outputs": [
    {
     "data": {
      "text/plain": "            Date         Open         High          Low        Close  \\\n1053  2018-11-19  5620.779785  5620.779785  4842.910156  4871.490234   \n1054  2018-11-20  4863.930176  4951.609863  4272.109863  4451.870117   \n1055  2018-11-21  4465.540039  4675.729980  4343.979980  4602.169922   \n1056  2018-11-22  4611.569824  4629.640137  4365.640137  4365.939941   \n1057  2018-11-23  4360.700195  4396.419922  4195.680176  4347.109863   \n...          ...          ...          ...          ...          ...   \n1536  2020-03-16  5385.229492  5385.229492  4575.357910  5014.479980   \n1537  2020-03-17  5002.578125  5371.348633  4981.909180  5225.629395   \n1538  2020-03-18  5227.113770  5331.833984  5069.335938  5238.438477   \n1542  2020-03-22  6185.558105  6359.697266  5823.713867  5830.254883   \n1549  2020-03-29  6245.624512  6250.467285  5920.085938  5922.042969   \n\n        Adj Close        Volume      Support    Resistance  \n1053  4871.490234  7.039560e+09  5903.439941   8424.269531  \n1054  4451.870117  8.428290e+09  5903.439941   8424.269531  \n1055  4602.169922  6.120120e+09  5903.439941   8424.269531  \n1056  4365.939941  4.569370e+09  5903.439941   8424.269531  \n1057  4347.109863  4.871490e+09  5903.439941   8424.269531  \n...           ...           ...          ...           ...  \n1536  5014.479980  4.536803e+10  6640.515137  10326.054688  \n1537  5225.629395  3.862264e+10  6640.515137  10326.054688  \n1538  5238.438477  3.787880e+10  6640.515137  10326.054688  \n1542  5830.254883  4.009966e+10  6640.515137  10326.054688  \n1549  5922.042969  2.837369e+10  6640.515137  10326.054688  \n\n[35 rows x 9 columns]",
      "text/html": "<div>\n<style scoped>\n    .dataframe tbody tr th:only-of-type {\n        vertical-align: middle;\n    }\n\n    .dataframe tbody tr th {\n        vertical-align: top;\n    }\n\n    .dataframe thead th {\n        text-align: right;\n    }\n</style>\n<table border=\"1\" class=\"dataframe\">\n  <thead>\n    <tr style=\"text-align: right;\">\n      <th></th>\n      <th>Date</th>\n      <th>Open</th>\n      <th>High</th>\n      <th>Low</th>\n      <th>Close</th>\n      <th>Adj Close</th>\n      <th>Volume</th>\n      <th>Support</th>\n      <th>Resistance</th>\n    </tr>\n  </thead>\n  <tbody>\n    <tr>\n      <th>1053</th>\n      <td>2018-11-19</td>\n      <td>5620.779785</td>\n      <td>5620.779785</td>\n      <td>4842.910156</td>\n      <td>4871.490234</td>\n      <td>4871.490234</td>\n      <td>7.039560e+09</td>\n      <td>5903.439941</td>\n      <td>8424.269531</td>\n    </tr>\n    <tr>\n      <th>1054</th>\n      <td>2018-11-20</td>\n      <td>4863.930176</td>\n      <td>4951.609863</td>\n      <td>4272.109863</td>\n      <td>4451.870117</td>\n      <td>4451.870117</td>\n      <td>8.428290e+09</td>\n      <td>5903.439941</td>\n      <td>8424.269531</td>\n    </tr>\n    <tr>\n      <th>1055</th>\n      <td>2018-11-21</td>\n      <td>4465.540039</td>\n      <td>4675.729980</td>\n      <td>4343.979980</td>\n      <td>4602.169922</td>\n      <td>4602.169922</td>\n      <td>6.120120e+09</td>\n      <td>5903.439941</td>\n      <td>8424.269531</td>\n    </tr>\n    <tr>\n      <th>1056</th>\n      <td>2018-11-22</td>\n      <td>4611.569824</td>\n      <td>4629.640137</td>\n      <td>4365.640137</td>\n      <td>4365.939941</td>\n      <td>4365.939941</td>\n      <td>4.569370e+09</td>\n      <td>5903.439941</td>\n      <td>8424.269531</td>\n    </tr>\n    <tr>\n      <th>1057</th>\n      <td>2018-11-23</td>\n      <td>4360.700195</td>\n      <td>4396.419922</td>\n      <td>4195.680176</td>\n      <td>4347.109863</td>\n      <td>4347.109863</td>\n      <td>4.871490e+09</td>\n      <td>5903.439941</td>\n      <td>8424.269531</td>\n    </tr>\n    <tr>\n      <th>...</th>\n      <td>...</td>\n      <td>...</td>\n      <td>...</td>\n      <td>...</td>\n      <td>...</td>\n      <td>...</td>\n      <td>...</td>\n      <td>...</td>\n      <td>...</td>\n    </tr>\n    <tr>\n      <th>1536</th>\n      <td>2020-03-16</td>\n      <td>5385.229492</td>\n      <td>5385.229492</td>\n      <td>4575.357910</td>\n      <td>5014.479980</td>\n      <td>5014.479980</td>\n      <td>4.536803e+10</td>\n      <td>6640.515137</td>\n      <td>10326.054688</td>\n    </tr>\n    <tr>\n      <th>1537</th>\n      <td>2020-03-17</td>\n      <td>5002.578125</td>\n      <td>5371.348633</td>\n      <td>4981.909180</td>\n      <td>5225.629395</td>\n      <td>5225.629395</td>\n      <td>3.862264e+10</td>\n      <td>6640.515137</td>\n      <td>10326.054688</td>\n    </tr>\n    <tr>\n      <th>1538</th>\n      <td>2020-03-18</td>\n      <td>5227.113770</td>\n      <td>5331.833984</td>\n      <td>5069.335938</td>\n      <td>5238.438477</td>\n      <td>5238.438477</td>\n      <td>3.787880e+10</td>\n      <td>6640.515137</td>\n      <td>10326.054688</td>\n    </tr>\n    <tr>\n      <th>1542</th>\n      <td>2020-03-22</td>\n      <td>6185.558105</td>\n      <td>6359.697266</td>\n      <td>5823.713867</td>\n      <td>5830.254883</td>\n      <td>5830.254883</td>\n      <td>4.009966e+10</td>\n      <td>6640.515137</td>\n      <td>10326.054688</td>\n    </tr>\n    <tr>\n      <th>1549</th>\n      <td>2020-03-29</td>\n      <td>6245.624512</td>\n      <td>6250.467285</td>\n      <td>5920.085938</td>\n      <td>5922.042969</td>\n      <td>5922.042969</td>\n      <td>2.837369e+10</td>\n      <td>6640.515137</td>\n      <td>10326.054688</td>\n    </tr>\n  </tbody>\n</table>\n<p>35 rows × 9 columns</p>\n</div>"
     },
     "execution_count": 24,
     "metadata": {},
     "output_type": "execute_result"
    }
   ],
   "source": [
    "data[data['Close'] < data['Support'] * 0.9]"
   ],
   "metadata": {
    "collapsed": false,
    "pycharm": {
     "name": "#%%\n"
    }
   }
  },
  {
   "cell_type": "code",
   "execution_count": 70,
   "outputs": [
    {
     "data": {
      "text/plain": "434.334015"
     },
     "execution_count": 70,
     "metadata": {},
     "output_type": "execute_result"
    }
   ],
   "source": [
    "data[price][0]"
   ],
   "metadata": {
    "collapsed": false,
    "pycharm": {
     "name": "#%%\n"
    }
   }
  },
  {
   "cell_type": "code",
   "execution_count": 78,
   "outputs": [
    {
     "data": {
      "text/plain": "array([2, 3])"
     },
     "execution_count": 78,
     "metadata": {},
     "output_type": "execute_result"
    }
   ],
   "source": [
    "A = np.array([1, 2, 3])\n",
    "A = np.delete(A, 0)\n",
    "A"
   ],
   "metadata": {
    "collapsed": false,
    "pycharm": {
     "name": "#%%\n"
    }
   }
  },
  {
   "cell_type": "code",
   "execution_count": 129,
   "outputs": [],
   "source": [
    "def make_buy(data, price = 'Close', penetrate = 0.01):\n",
    "    ratio = 1 - penetrate\n",
    "    data['Signal'] = 0\n",
    "    mask = data['Support'].notna()\n",
    "    base =  data['Support'][mask][::-1]\n",
    "    base_date = list(base.index)\n",
    "    base = list(base)\n",
    "    available_base = []\n",
    "\n",
    "\n",
    "    for i in range(len(data)):\n",
    "\n",
    "        try:\n",
    "            if i > base_date[-1]:  # if iterator passes the day of a support\n",
    "                available_base.append(base.pop())  # that base becomes available to be compared\n",
    "                available_base.sort()\n",
    "                base_date.pop()  # pop the base date that have been passed\n",
    "        except IndexError:\n",
    "            pass\n",
    "\n",
    "        if len(available_base) > 0:\n",
    "            if data.loc[i, price] < available_base[-1] * ratio:\n",
    "                data.loc[i, 'Signal'] = 1\n",
    "                available_base.pop()\n"
   ],
   "metadata": {
    "collapsed": false,
    "pycharm": {
     "name": "#%%\n"
    }
   }
  },
  {
   "cell_type": "code",
   "execution_count": 18,
   "outputs": [],
   "source": [
    "pd.set_option('display.max_rows', 10)"
   ],
   "metadata": {
    "collapsed": false,
    "pycharm": {
     "name": "#%%\n"
    }
   }
  },
  {
   "cell_type": "code",
   "execution_count": 130,
   "outputs": [
    {
     "name": "stdout",
     "output_type": "stream",
     "text": [
      "[364.330994]\n",
      "[364.330994, 547.465027]\n",
      "[364.330994, 547.465027, 937.52002]\n",
      "[364.330994, 547.465027, 937.52002, 1929.819946]\n",
      "[364.330994, 547.465027, 937.52002, 1929.819946, 6955.27002]\n",
      "Base 6955.27002\n",
      "Buying at 6811.470215\n",
      "[364.330994, 547.465027, 937.52002, 1929.819946, 6636.319824]\n",
      "Base 6636.319824\n",
      "Buying at 6349.899902\n",
      "[364.330994, 547.465027, 937.52002, 1929.819946, 5903.439941]\n",
      "Base 5903.439941\n",
      "Buying at 5738.350098\n",
      "[364.330994, 547.465027, 937.52002, 1929.819946, 3236.761719]\n",
      "[364.330994, 547.465027, 937.52002, 1929.819946, 3236.761719, 3399.47168]\n",
      "[364.330994, 547.465027, 937.52002, 1929.819946, 3236.761719, 3399.47168, 6640.515137]\n",
      "Base 6640.515137\n",
      "Buying at 4970.788086\n"
     ]
    }
   ],
   "source": [
    "make_buy(data)"
   ],
   "metadata": {
    "collapsed": false,
    "pycharm": {
     "name": "#%%\n"
    }
   }
  },
  {
   "cell_type": "code",
   "execution_count": 107,
   "outputs": [
    {
     "data": {
      "text/plain": "1446    6640.515137\n1133    3399.471680\n1079    3236.761719\n909     5903.439941\n826     6636.319824\n766     6955.270020\n562     1929.819946\n448      937.520020\n214      547.465027\n14       364.330994\nName: Support, dtype: float64"
     },
     "execution_count": 107,
     "metadata": {},
     "output_type": "execute_result"
    }
   ],
   "source": [
    "mask = data['Support'].notna()\n",
    "base = data['Support'][mask][::-1]\n",
    "base"
   ],
   "metadata": {
    "collapsed": false,
    "pycharm": {
     "name": "#%%\n"
    }
   }
  },
  {
   "cell_type": "code",
   "execution_count": 118,
   "outputs": [
    {
     "data": {
      "text/plain": "         Date        Open        High         Low       Close   Adj Close  \\\n1  2016-01-02  434.622009  436.062012  431.869995  433.437988  433.437988   \n2  2016-01-03  433.578003  433.743011  424.705994  430.010986  430.010986   \n3  2016-01-04  430.061005  434.516998  429.084015  433.091003  433.091003   \n4  2016-01-05  433.069000  434.182007  429.675995  431.959991  431.959991   \n5  2016-01-06  431.855988  431.855988  426.341003  429.105011  429.105011   \n6  2016-01-07  430.010986  458.765991  429.076996  458.048004  458.048004   \n7  2016-01-08  457.537994  462.933990  447.937988  453.230011  453.230011   \n8  2016-01-09  453.382996  454.640015  446.889008  447.610992  447.610992   \n9  2016-01-10  448.238007  448.308990  440.351013  447.990997  447.990997   \n\n       Volume  Support  Support Line  Signal  \n1  30096600.0      NaN    364.330994       1  \n2  39633800.0      NaN    364.330994       1  \n3  38477500.0      NaN    364.330994       1  \n4  34522600.0      NaN    364.330994       1  \n5  34042500.0      NaN    364.330994       1  \n6  87562200.0      NaN    364.330994       1  \n7  56993000.0      NaN    364.330994       1  \n8  32278000.0      NaN    364.330994       1  \n9  35995900.0      NaN    364.330994       1  ",
      "text/html": "<div>\n<style scoped>\n    .dataframe tbody tr th:only-of-type {\n        vertical-align: middle;\n    }\n\n    .dataframe tbody tr th {\n        vertical-align: top;\n    }\n\n    .dataframe thead th {\n        text-align: right;\n    }\n</style>\n<table border=\"1\" class=\"dataframe\">\n  <thead>\n    <tr style=\"text-align: right;\">\n      <th></th>\n      <th>Date</th>\n      <th>Open</th>\n      <th>High</th>\n      <th>Low</th>\n      <th>Close</th>\n      <th>Adj Close</th>\n      <th>Volume</th>\n      <th>Support</th>\n      <th>Support Line</th>\n      <th>Signal</th>\n    </tr>\n  </thead>\n  <tbody>\n    <tr>\n      <th>1</th>\n      <td>2016-01-02</td>\n      <td>434.622009</td>\n      <td>436.062012</td>\n      <td>431.869995</td>\n      <td>433.437988</td>\n      <td>433.437988</td>\n      <td>30096600.0</td>\n      <td>NaN</td>\n      <td>364.330994</td>\n      <td>1</td>\n    </tr>\n    <tr>\n      <th>2</th>\n      <td>2016-01-03</td>\n      <td>433.578003</td>\n      <td>433.743011</td>\n      <td>424.705994</td>\n      <td>430.010986</td>\n      <td>430.010986</td>\n      <td>39633800.0</td>\n      <td>NaN</td>\n      <td>364.330994</td>\n      <td>1</td>\n    </tr>\n    <tr>\n      <th>3</th>\n      <td>2016-01-04</td>\n      <td>430.061005</td>\n      <td>434.516998</td>\n      <td>429.084015</td>\n      <td>433.091003</td>\n      <td>433.091003</td>\n      <td>38477500.0</td>\n      <td>NaN</td>\n      <td>364.330994</td>\n      <td>1</td>\n    </tr>\n    <tr>\n      <th>4</th>\n      <td>2016-01-05</td>\n      <td>433.069000</td>\n      <td>434.182007</td>\n      <td>429.675995</td>\n      <td>431.959991</td>\n      <td>431.959991</td>\n      <td>34522600.0</td>\n      <td>NaN</td>\n      <td>364.330994</td>\n      <td>1</td>\n    </tr>\n    <tr>\n      <th>5</th>\n      <td>2016-01-06</td>\n      <td>431.855988</td>\n      <td>431.855988</td>\n      <td>426.341003</td>\n      <td>429.105011</td>\n      <td>429.105011</td>\n      <td>34042500.0</td>\n      <td>NaN</td>\n      <td>364.330994</td>\n      <td>1</td>\n    </tr>\n    <tr>\n      <th>6</th>\n      <td>2016-01-07</td>\n      <td>430.010986</td>\n      <td>458.765991</td>\n      <td>429.076996</td>\n      <td>458.048004</td>\n      <td>458.048004</td>\n      <td>87562200.0</td>\n      <td>NaN</td>\n      <td>364.330994</td>\n      <td>1</td>\n    </tr>\n    <tr>\n      <th>7</th>\n      <td>2016-01-08</td>\n      <td>457.537994</td>\n      <td>462.933990</td>\n      <td>447.937988</td>\n      <td>453.230011</td>\n      <td>453.230011</td>\n      <td>56993000.0</td>\n      <td>NaN</td>\n      <td>364.330994</td>\n      <td>1</td>\n    </tr>\n    <tr>\n      <th>8</th>\n      <td>2016-01-09</td>\n      <td>453.382996</td>\n      <td>454.640015</td>\n      <td>446.889008</td>\n      <td>447.610992</td>\n      <td>447.610992</td>\n      <td>32278000.0</td>\n      <td>NaN</td>\n      <td>364.330994</td>\n      <td>1</td>\n    </tr>\n    <tr>\n      <th>9</th>\n      <td>2016-01-10</td>\n      <td>448.238007</td>\n      <td>448.308990</td>\n      <td>440.351013</td>\n      <td>447.990997</td>\n      <td>447.990997</td>\n      <td>35995900.0</td>\n      <td>NaN</td>\n      <td>364.330994</td>\n      <td>1</td>\n    </tr>\n  </tbody>\n</table>\n</div>"
     },
     "execution_count": 118,
     "metadata": {},
     "output_type": "execute_result"
    }
   ],
   "source": [
    "data[data['Signal'] == 1]"
   ],
   "metadata": {
    "collapsed": false,
    "pycharm": {
     "name": "#%%\n"
    }
   }
  },
  {
   "cell_type": "code",
   "execution_count": 84,
   "outputs": [],
   "source": [
    "ratio = 1 - 0.1\n",
    "data['Signal'] = 0\n",
    "mask = data['Support'].notna()\n",
    "base = list(data['Support'][mask][::-1])\n",
    "base_date = list(data[mask].index[::-1])"
   ],
   "metadata": {
    "collapsed": false,
    "pycharm": {
     "name": "#%%\n"
    }
   }
  },
  {
   "cell_type": "code",
   "execution_count": 85,
   "outputs": [
    {
     "data": {
      "text/plain": "[6640.515137,\n 3399.47168,\n 3236.761719,\n 5903.439941,\n 6636.319824,\n 6955.27002,\n 1929.819946,\n 937.52002,\n 547.465027,\n 364.330994]"
     },
     "execution_count": 85,
     "metadata": {},
     "output_type": "execute_result"
    }
   ],
   "source": [
    "base"
   ],
   "metadata": {
    "collapsed": false,
    "pycharm": {
     "name": "#%%\n"
    }
   }
  },
  {
   "cell_type": "code",
   "execution_count": 86,
   "outputs": [
    {
     "data": {
      "text/plain": "[1446, 1133, 1079, 909, 826, 766, 562, 448, 214, 14]"
     },
     "execution_count": 86,
     "metadata": {},
     "output_type": "execute_result"
    }
   ],
   "source": [
    "base_date"
   ],
   "metadata": {
    "collapsed": false,
    "pycharm": {
     "name": "#%%\n"
    }
   }
  },
  {
   "cell_type": "code",
   "execution_count": 87,
   "outputs": [
    {
     "data": {
      "text/plain": "<AxesSubplot:>"
     },
     "execution_count": 87,
     "metadata": {},
     "output_type": "execute_result"
    },
    {
     "data": {
      "text/plain": "<Figure size 432x288 with 1 Axes>",
      "image/png": "[encoded data removed]"
     },
     "metadata": {
      "needs_background": "light"
     },
     "output_type": "display_data"
    }
   ],
   "source": [
    "data[price].plot()"
   ],
   "metadata": {
    "collapsed": false,
    "pycharm": {
     "name": "#%%\n"
    }
   }
  }
 ]
}