{
 "cells": [
  {
   "cell_type": "code",
   "execution_count": 1,
   "outputs": [
    {
     "name": "stdout",
     "output_type": "stream",
     "text": [
      "C:\\Users\\dangt\\Documents\\Python\\Projects\\base-trading\n"
     ]
    }
   ],
   "source": [
    "# %cd ..\\"
   ],
   "metadata": {
    "collapsed": false,
    "pycharm": {
     "name": "#%%\n"
    }
   }
  },
  {
   "cell_type": "code",
   "execution_count": 2,
   "outputs": [],
   "source": [
    "import pandas as pd\n",
    "import numpy as np\n",
    "from base_trading.backtest import BaseTrader"
   ],
   "metadata": {
    "collapsed": false,
    "pycharm": {
     "name": "#%%\n"
    }
   }
  },
  {
   "cell_type": "code",
   "execution_count": 3,
   "outputs": [],
   "source": [
    "base_trader = BaseTrader()\n",
    "data = pd.read_csv(\"data/BTC-USD.csv\", index_col=0)\n",
    "data.Date = pd.to_datetime(data.Date)\n",
    "data = base_trader.execute(data)"
   ],
   "metadata": {
    "collapsed": false,
    "pycharm": {
     "name": "#%%\n"
    }
   }
  },
  {
   "cell_type": "code",
   "execution_count": 19,
   "outputs": [
    {
     "data": {
      "text/plain": "Date                   2021-04-20 00:00:00\nHigh                          56757.972656\nLow                            53695.46875\nOpen                          56471.128906\nClose                         53906.089844\nVolume                       54926612466.0\nAdj Close                     53906.089844\nSupport                       53906.089844\nSupport Line                  53906.089844\nPosition                               0.0\nBought Price                           NaN\nSold Price                             NaN\nMarket Log Return                 -0.04652\nStrategy Log Return                   -0.0\nBuy & Hold                  1178702.831811\nBase Trading                  49230.509911\nMarket Return                    -0.047619\nStrategy Return                        0.0\nName: 2404, dtype: object"
     },
     "execution_count": 19,
     "metadata": {},
     "output_type": "execute_result"
    }
   ],
   "source": [
    "data.iloc[-1]"
   ],
   "metadata": {
    "collapsed": false,
    "pycharm": {
     "name": "#%%\n"
    }
   }
  },
  {
   "cell_type": "code",
   "execution_count": 48,
   "outputs": [],
   "source": [
    "init_cash = 10000"
   ],
   "metadata": {
    "collapsed": false,
    "pycharm": {
     "name": "#%%\n"
    }
   }
  },
  {
   "cell_type": "code",
   "execution_count": 70,
   "outputs": [
    {
     "data": {
      "text/plain": "                 Metrics           Buy & Hold         Base Trading\n0                  Start  2014-09-16 00:00:00  2014-09-16 00:00:00\n1                    End  2021-04-20 00:00:00  2021-04-20 00:00:00\n2               Duration   2408 days 00:00:00   2408 days 00:00:00\n3           Initial Cash                10000                10000\n4            Ending Cash            1178703.0              49231.0\n5           Total Profit            1168703.0              39231.0\n6       Total Return (%)             11687.03               392.31\n7   Benchmark Return (%)             11687.03             11687.03\n8       Daily Return (%)             0.001239              0.00051\n9   Daily Volatility (%)             0.040009             0.017637\n10          Sharpe Ratio             0.005974            -0.027791",
      "text/html": "<div>\n<style scoped>\n    .dataframe tbody tr th:only-of-type {\n        vertical-align: middle;\n    }\n\n    .dataframe tbody tr th {\n        vertical-align: top;\n    }\n\n    .dataframe thead th {\n        text-align: right;\n    }\n</style>\n<table border=\"1\" class=\"dataframe\">\n  <thead>\n    <tr style=\"text-align: right;\">\n      <th></th>\n      <th>Metrics</th>\n      <th>Buy &amp; Hold</th>\n      <th>Base Trading</th>\n    </tr>\n  </thead>\n  <tbody>\n    <tr>\n      <th>0</th>\n      <td>Start</td>\n      <td>2014-09-16 00:00:00</td>\n      <td>2014-09-16 00:00:00</td>\n    </tr>\n    <tr>\n      <th>1</th>\n      <td>End</td>\n      <td>2021-04-20 00:00:00</td>\n      <td>2021-04-20 00:00:00</td>\n    </tr>\n    <tr>\n      <th>2</th>\n      <td>Duration</td>\n      <td>2408 days 00:00:00</td>\n      <td>2408 days 00:00:00</td>\n    </tr>\n    <tr>\n      <th>3</th>\n      <td>Initial Cash</td>\n      <td>10000</td>\n      <td>10000</td>\n    </tr>\n    <tr>\n      <th>4</th>\n      <td>Ending Cash</td>\n      <td>1178703.0</td>\n      <td>49231.0</td>\n    </tr>\n    <tr>\n      <th>5</th>\n      <td>Total Profit</td>\n      <td>1168703.0</td>\n      <td>39231.0</td>\n    </tr>\n    <tr>\n      <th>6</th>\n      <td>Total Return (%)</td>\n      <td>11687.03</td>\n      <td>392.31</td>\n    </tr>\n    <tr>\n      <th>7</th>\n      <td>Benchmark Return (%)</td>\n      <td>11687.03</td>\n      <td>11687.03</td>\n    </tr>\n    <tr>\n      <th>8</th>\n      <td>Daily Return (%)</td>\n      <td>0.001239</td>\n      <td>0.00051</td>\n    </tr>\n    <tr>\n      <th>9</th>\n      <td>Daily Volatility (%)</td>\n      <td>0.040009</td>\n      <td>0.017637</td>\n    </tr>\n    <tr>\n      <th>10</th>\n      <td>Sharpe Ratio</td>\n      <td>0.005974</td>\n      <td>-0.027791</td>\n    </tr>\n  </tbody>\n</table>\n</div>"
     },
     "execution_count": 70,
     "metadata": {},
     "output_type": "execute_result"
    }
   ],
   "source": [
    "stats = pd.DataFrame(index=[\"Buy & Hold\", \"Base Trading\"])\n",
    "n = len(data) - 1\n",
    "stats[\"Start\"] = data.loc[0, \"Date\"]\n",
    "stats[\"End\"] = data.loc[n, \"Date\"]\n",
    "stats[\"Duration\"] = stats[\"End\"] - stats[\"Start\"]\n",
    "\n",
    "stats[\"Initial Cash\"] = init_cash\n",
    "for strategy in [\"Buy & Hold\", \"Base Trading\"]:\n",
    "    stats.loc[strategy, \"Ending Cash\"] = round(data.loc[n, strategy])\n",
    "\n",
    "stats[\"Total Profit\"] = stats[\"Ending Cash\"] - stats[\"Initial Cash\"]\n",
    "stats[\"Total Return (%)\"] = stats[\"Total Profit\"] / stats[\"Initial Cash\"] * 100\n",
    "stats[\"Benchmark Return (%)\"] = stats.loc[\"Buy & Hold\", \"Total Return (%)\"]\n",
    "stats.loc[\"Buy & Hold\", \"Daily Return (%)\"] = np.average(data[\"Market Return\"][2:])\n",
    "stats.loc[\"Buy & Hold\", \"Daily Volatility (%)\"] = np.std(data[\"Market Return\"][2:])\n",
    "stats.loc[\"Base Trading\", \"Daily Return (%)\"] = np.average(data[\"Strategy Return\"][2:])\n",
    "stats.loc[\"Base Trading\", \"Daily Volatility (%)\"] = np.std(data[\"Strategy Return\"][2:])\n",
    "stats[\"Sharpe Ratio\"] = (stats[\"Daily Return (%)\"] - 0.001) / stats[\"Daily Volatility (%)\"]\n",
    "stats = stats.T.reset_index()\n",
    "stats.rename(columns={\"index\": \"Metrics\"}, inplace=True)\n",
    "stats"
   ],
   "metadata": {
    "collapsed": false,
    "pycharm": {
     "name": "#%%\n"
    }
   }
  },
  {
   "cell_type": "code",
   "execution_count": 50,
   "outputs": [
    {
     "data": {
      "text/plain": "0.040008685962824184"
     },
     "execution_count": 50,
     "metadata": {},
     "output_type": "execute_result"
    }
   ],
   "source": [
    "np.std(data[\"Market Return\"][2:])"
   ],
   "metadata": {
    "collapsed": false,
    "pycharm": {
     "name": "#%%\n"
    }
   }
  },
  {
   "cell_type": "code",
   "execution_count": 51,
   "outputs": [
    {
     "data": {
      "text/plain": "Buy & Hold     2408 days\nBase Trading   2408 days\ndtype: timedelta64[ns]"
     },
     "execution_count": 51,
     "metadata": {},
     "output_type": "execute_result"
    }
   ],
   "source": [
    "stats[\"End\"] - stats[\"Start\"]"
   ],
   "metadata": {
    "collapsed": false,
    "pycharm": {
     "name": "#%%\n"
    }
   }
  },
  {
   "cell_type": "code",
   "execution_count": 52,
   "outputs": [
    {
     "data": {
      "text/plain": "                  Start        End  Duration  Initial Cash Ending Cash  \\\nBuy & Hold   2014-09-16 2021-04-20 2408 days         10000     1178703   \nBase Trading 2014-09-16 2021-04-20 2408 days         10000       49231   \n\n             Total Profit Total Return (%)  Benchmark Return (%)  \\\nBuy & Hold        1168703         11687.03              11687.03   \nBase Trading        39231           392.31              11687.03   \n\n             Daily Return (%) Daily Volatility Sharpe Ratio  \\\nBuy & Hold           0.001239              NaN     0.005974   \nBase Trading          0.00051              NaN    -0.027791   \n\n              Daily Volatility (%)  \nBuy & Hold                0.040009  \nBase Trading              0.017637  ",
      "text/html": "<div>\n<style scoped>\n    .dataframe tbody tr th:only-of-type {\n        vertical-align: middle;\n    }\n\n    .dataframe tbody tr th {\n        vertical-align: top;\n    }\n\n    .dataframe thead th {\n        text-align: right;\n    }\n</style>\n<table border=\"1\" class=\"dataframe\">\n  <thead>\n    <tr style=\"text-align: right;\">\n      <th></th>\n      <th>Start</th>\n      <th>End</th>\n      <th>Duration</th>\n      <th>Initial Cash</th>\n      <th>Ending Cash</th>\n      <th>Total Profit</th>\n      <th>Total Return (%)</th>\n      <th>Benchmark Return (%)</th>\n      <th>Daily Return (%)</th>\n      <th>Daily Volatility</th>\n      <th>Sharpe Ratio</th>\n      <th>Daily Volatility (%)</th>\n    </tr>\n  </thead>\n  <tbody>\n    <tr>\n      <th>Buy &amp; Hold</th>\n      <td>2014-09-16</td>\n      <td>2021-04-20</td>\n      <td>2408 days</td>\n      <td>10000</td>\n      <td>1178703</td>\n      <td>1168703</td>\n      <td>11687.03</td>\n      <td>11687.03</td>\n      <td>0.001239</td>\n      <td>NaN</td>\n      <td>0.005974</td>\n      <td>0.040009</td>\n    </tr>\n    <tr>\n      <th>Base Trading</th>\n      <td>2014-09-16</td>\n      <td>2021-04-20</td>\n      <td>2408 days</td>\n      <td>10000</td>\n      <td>49231</td>\n      <td>39231</td>\n      <td>392.31</td>\n      <td>11687.03</td>\n      <td>0.00051</td>\n      <td>NaN</td>\n      <td>-0.027791</td>\n      <td>0.017637</td>\n    </tr>\n  </tbody>\n</table>\n</div>"
     },
     "execution_count": 52,
     "metadata": {},
     "output_type": "execute_result"
    }
   ],
   "source": [
    "stats"
   ],
   "metadata": {
    "collapsed": false,
    "pycharm": {
     "name": "#%%\n"
    }
   }
  },
  {
   "cell_type": "code",
   "execution_count": 53,
   "outputs": [
    {
     "ename": "KeyError",
     "evalue": "'Buy and Hold'",
     "output_type": "error",
     "traceback": [
      "\u001B[1;31m---------------------------------------------------------------------------\u001B[0m",
      "\u001B[1;31mKeyError\u001B[0m                                  Traceback (most recent call last)",
      "\u001B[1;32m~\\Documents\\Python\\ds-venv\\lib\\site-packages\\pandas\\core\\indexes\\base.py\u001B[0m in \u001B[0;36mget_loc\u001B[1;34m(self, key, method, tolerance)\u001B[0m\n\u001B[0;32m   3079\u001B[0m             \u001B[1;32mtry\u001B[0m\u001B[1;33m:\u001B[0m\u001B[1;33m\u001B[0m\u001B[1;33m\u001B[0m\u001B[0m\n\u001B[1;32m-> 3080\u001B[1;33m                 \u001B[1;32mreturn\u001B[0m \u001B[0mself\u001B[0m\u001B[1;33m.\u001B[0m\u001B[0m_engine\u001B[0m\u001B[1;33m.\u001B[0m\u001B[0mget_loc\u001B[0m\u001B[1;33m(\u001B[0m\u001B[0mcasted_key\u001B[0m\u001B[1;33m)\u001B[0m\u001B[1;33m\u001B[0m\u001B[1;33m\u001B[0m\u001B[0m\n\u001B[0m\u001B[0;32m   3081\u001B[0m             \u001B[1;32mexcept\u001B[0m \u001B[0mKeyError\u001B[0m \u001B[1;32mas\u001B[0m \u001B[0merr\u001B[0m\u001B[1;33m:\u001B[0m\u001B[1;33m\u001B[0m\u001B[1;33m\u001B[0m\u001B[0m\n",
      "\u001B[1;32mpandas\\_libs\\index.pyx\u001B[0m in \u001B[0;36mpandas._libs.index.IndexEngine.get_loc\u001B[1;34m()\u001B[0m\n",
      "\u001B[1;32mpandas\\_libs\\index.pyx\u001B[0m in \u001B[0;36mpandas._libs.index.IndexEngine.get_loc\u001B[1;34m()\u001B[0m\n",
      "\u001B[1;32mpandas\\_libs\\hashtable_class_helper.pxi\u001B[0m in \u001B[0;36mpandas._libs.hashtable.PyObjectHashTable.get_item\u001B[1;34m()\u001B[0m\n",
      "\u001B[1;32mpandas\\_libs\\hashtable_class_helper.pxi\u001B[0m in \u001B[0;36mpandas._libs.hashtable.PyObjectHashTable.get_item\u001B[1;34m()\u001B[0m\n",
      "\u001B[1;31mKeyError\u001B[0m: 'Buy and Hold'",
      "\nThe above exception was the direct cause of the following exception:\n",
      "\u001B[1;31mKeyError\u001B[0m                                  Traceback (most recent call last)",
      "\u001B[1;32m<ipython-input-53-d0eb548e6054>\u001B[0m in \u001B[0;36m<module>\u001B[1;34m\u001B[0m\n\u001B[1;32m----> 1\u001B[1;33m \u001B[0mdata\u001B[0m\u001B[1;33m[\u001B[0m\u001B[1;34m\"Buy and Hold\"\u001B[0m\u001B[1;33m]\u001B[0m\u001B[1;33m\u001B[0m\u001B[1;33m\u001B[0m\u001B[0m\n\u001B[0m",
      "\u001B[1;32m~\\Documents\\Python\\ds-venv\\lib\\site-packages\\pandas\\core\\frame.py\u001B[0m in \u001B[0;36m__getitem__\u001B[1;34m(self, key)\u001B[0m\n\u001B[0;32m   3022\u001B[0m             \u001B[1;32mif\u001B[0m \u001B[0mself\u001B[0m\u001B[1;33m.\u001B[0m\u001B[0mcolumns\u001B[0m\u001B[1;33m.\u001B[0m\u001B[0mnlevels\u001B[0m \u001B[1;33m>\u001B[0m \u001B[1;36m1\u001B[0m\u001B[1;33m:\u001B[0m\u001B[1;33m\u001B[0m\u001B[1;33m\u001B[0m\u001B[0m\n\u001B[0;32m   3023\u001B[0m                 \u001B[1;32mreturn\u001B[0m \u001B[0mself\u001B[0m\u001B[1;33m.\u001B[0m\u001B[0m_getitem_multilevel\u001B[0m\u001B[1;33m(\u001B[0m\u001B[0mkey\u001B[0m\u001B[1;33m)\u001B[0m\u001B[1;33m\u001B[0m\u001B[1;33m\u001B[0m\u001B[0m\n\u001B[1;32m-> 3024\u001B[1;33m             \u001B[0mindexer\u001B[0m \u001B[1;33m=\u001B[0m \u001B[0mself\u001B[0m\u001B[1;33m.\u001B[0m\u001B[0mcolumns\u001B[0m\u001B[1;33m.\u001B[0m\u001B[0mget_loc\u001B[0m\u001B[1;33m(\u001B[0m\u001B[0mkey\u001B[0m\u001B[1;33m)\u001B[0m\u001B[1;33m\u001B[0m\u001B[1;33m\u001B[0m\u001B[0m\n\u001B[0m\u001B[0;32m   3025\u001B[0m             \u001B[1;32mif\u001B[0m \u001B[0mis_integer\u001B[0m\u001B[1;33m(\u001B[0m\u001B[0mindexer\u001B[0m\u001B[1;33m)\u001B[0m\u001B[1;33m:\u001B[0m\u001B[1;33m\u001B[0m\u001B[1;33m\u001B[0m\u001B[0m\n\u001B[0;32m   3026\u001B[0m                 \u001B[0mindexer\u001B[0m \u001B[1;33m=\u001B[0m \u001B[1;33m[\u001B[0m\u001B[0mindexer\u001B[0m\u001B[1;33m]\u001B[0m\u001B[1;33m\u001B[0m\u001B[1;33m\u001B[0m\u001B[0m\n",
      "\u001B[1;32m~\\Documents\\Python\\ds-venv\\lib\\site-packages\\pandas\\core\\indexes\\base.py\u001B[0m in \u001B[0;36mget_loc\u001B[1;34m(self, key, method, tolerance)\u001B[0m\n\u001B[0;32m   3080\u001B[0m                 \u001B[1;32mreturn\u001B[0m \u001B[0mself\u001B[0m\u001B[1;33m.\u001B[0m\u001B[0m_engine\u001B[0m\u001B[1;33m.\u001B[0m\u001B[0mget_loc\u001B[0m\u001B[1;33m(\u001B[0m\u001B[0mcasted_key\u001B[0m\u001B[1;33m)\u001B[0m\u001B[1;33m\u001B[0m\u001B[1;33m\u001B[0m\u001B[0m\n\u001B[0;32m   3081\u001B[0m             \u001B[1;32mexcept\u001B[0m \u001B[0mKeyError\u001B[0m \u001B[1;32mas\u001B[0m \u001B[0merr\u001B[0m\u001B[1;33m:\u001B[0m\u001B[1;33m\u001B[0m\u001B[1;33m\u001B[0m\u001B[0m\n\u001B[1;32m-> 3082\u001B[1;33m                 \u001B[1;32mraise\u001B[0m \u001B[0mKeyError\u001B[0m\u001B[1;33m(\u001B[0m\u001B[0mkey\u001B[0m\u001B[1;33m)\u001B[0m \u001B[1;32mfrom\u001B[0m \u001B[0merr\u001B[0m\u001B[1;33m\u001B[0m\u001B[1;33m\u001B[0m\u001B[0m\n\u001B[0m\u001B[0;32m   3083\u001B[0m \u001B[1;33m\u001B[0m\u001B[0m\n\u001B[0;32m   3084\u001B[0m         \u001B[1;32mif\u001B[0m \u001B[0mtolerance\u001B[0m \u001B[1;32mis\u001B[0m \u001B[1;32mnot\u001B[0m \u001B[1;32mNone\u001B[0m\u001B[1;33m:\u001B[0m\u001B[1;33m\u001B[0m\u001B[1;33m\u001B[0m\u001B[0m\n",
      "\u001B[1;31mKeyError\u001B[0m: 'Buy and Hold'"
     ]
    }
   ],
   "source": [
    "data[\"Buy and Hold\"]"
   ],
   "metadata": {
    "collapsed": false,
    "pycharm": {
     "name": "#%%\n"
    }
   }
  },
  {
   "cell_type": "code",
   "execution_count": null,
   "outputs": [],
   "source": [
    "data.columns"
   ],
   "metadata": {
    "collapsed": false,
    "pycharm": {
     "name": "#%%\n"
    }
   }
  }
 ],
 "metadata": {
  "kernelspec": {
   "name": "python3-dsvenv",
   "language": "python",
   "display_name": "Python 3.7.9 (ds-venv)"
  },
  "language_info": {
   "codemirror_mode": {
    "name": "ipython",
    "version": 2
   },
   "file_extension": ".py",
   "mimetype": "text/x-python",
   "name": "python",
   "nbconvert_exporter": "python",
   "pygments_lexer": "ipython2",
   "version": "2.7.6"
  }
 },
 "nbformat": 4,
 "nbformat_minor": 0
}