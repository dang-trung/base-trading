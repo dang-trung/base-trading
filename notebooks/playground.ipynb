{
 "metadata": {
  "language_info": {
   "codemirror_mode": {
    "name": "ipython",
    "version": 3
   },
   "file_extension": ".py",
   "mimetype": "text/x-python",
   "name": "python",
   "nbconvert_exporter": "python",
   "pygments_lexer": "ipython3",
   "version": "3.7.9-final"
  },
  "orig_nbformat": 2,
  "kernelspec": {
   "name": "python3-dsvenv",
   "language": "python",
   "display_name": "Python 3.7.9 (ds-venv)"
  }
 },
 "nbformat": 4,
 "nbformat_minor": 2,
 "cells": [
  {
   "cell_type": "code",
   "execution_count": 5,
   "outputs": [],
   "source": [
    "%cd ../"
   ],
   "metadata": {
    "collapsed": false,
    "pycharm": {
     "name": "#%%\n"
    }
   }
  },
  {
   "cell_type": "code",
   "execution_count": 6,
   "outputs": [],
   "source": [
    "import os\n",
    "\n",
    "import pandas as pd\n",
    "import pandas_datareader.data as web  # For reading stock data from yahoo\n",
    "\n",
    "\n",
    "class Collector:\n",
    "    def __init__(self, ticker, start, end, data_path):\n",
    "        self.ticker = ticker\n",
    "        self.start = start\n",
    "        self.end = end\n",
    "        self.data_path = data_path\n",
    "\n",
    "    def fetch(self):\n",
    "        data = web.DataReader(self.ticker, 'yahoo', self.start, self.end)\n",
    "        data.reset_index(inplace=True)\n",
    "        data.to_csv(self.data_path)\n",
    "\n",
    "        return data\n",
    "\n",
    "    def get_historical(self):\n",
    "        if os.path.exists(self.data_path):\n",
    "            data = pd.read_csv(self.data_path, index_col=0)\n",
    "            if pd.to_datetime(data['Date'][0]) > pd.to_datetime(self.start):\n",
    "                data = self.fetch()\n",
    "        else:\n",
    "            data = self.fetch()\n",
    "\n",
    "        return data"
   ],
   "metadata": {
    "collapsed": false,
    "pycharm": {
     "name": "#%%\n"
    }
   }
  },
  {
   "cell_type": "code",
   "execution_count": 7,
   "outputs": [],
   "source": [
    "start = '2004-01-01'\n",
    "end = '2021-01-01'\n",
    "ticker = 'BTC-USD'\n",
    "data_path = os.path.join('data', f'{ticker}.csv')\n",
    "\n",
    "collector = Collector(ticker, start, end, data_path)\n",
    "original_data = collector.get_historical()\n",
    "data = original_data.copy()\n"
   ],
   "metadata": {
    "collapsed": false,
    "pycharm": {
     "name": "#%%\n"
    }
   }
  },
  {
   "cell_type": "code",
   "execution_count": 8,
   "outputs": [
    {
     "data": {
      "text/plain": "            Date          High           Low          Open         Close  \\\n0     2014-09-16    468.174011    452.421997    465.864014    457.334015   \n1     2014-09-17    456.859985    413.104004    456.859985    424.440002   \n2     2014-09-18    427.834991    384.532013    424.102997    394.795990   \n3     2014-09-19    423.295990    389.882996    394.673004    408.903992   \n4     2014-09-20    412.425995    393.181000    408.084991    398.821014   \n...          ...           ...           ...           ...           ...   \n2291  2020-12-29  27370.720703  25987.298828  27081.810547  27362.437500   \n2292  2020-12-30  28937.740234  27360.089844  27360.089844  28840.953125   \n2293  2020-12-31  29244.876953  28201.992188  28841.574219  29001.720703   \n2294  2021-01-01  29600.626953  28803.585938  28994.009766  29374.152344   \n2295  2021-01-02  33155.117188  29091.181641  29376.455078  32127.267578   \n\n            Volume     Adj Close  \n0     2.105680e+07    457.334015  \n1     3.448320e+07    424.440002  \n2     3.791970e+07    394.795990  \n3     3.686360e+07    408.903992  \n4     2.658010e+07    398.821014  \n...            ...           ...  \n2291  4.526595e+10  27362.437500  \n2292  5.128744e+10  28840.953125  \n2293  4.675496e+10  29001.720703  \n2294  4.073030e+10  29374.152344  \n2295  6.786542e+10  32127.267578  \n\n[2296 rows x 7 columns]",
      "text/html": "<div>\n<style scoped>\n    .dataframe tbody tr th:only-of-type {\n        vertical-align: middle;\n    }\n\n    .dataframe tbody tr th {\n        vertical-align: top;\n    }\n\n    .dataframe thead th {\n        text-align: right;\n    }\n</style>\n<table border=\"1\" class=\"dataframe\">\n  <thead>\n    <tr style=\"text-align: right;\">\n      <th></th>\n      <th>Date</th>\n      <th>High</th>\n      <th>Low</th>\n      <th>Open</th>\n      <th>Close</th>\n      <th>Volume</th>\n      <th>Adj Close</th>\n    </tr>\n  </thead>\n  <tbody>\n    <tr>\n      <th>0</th>\n      <td>2014-09-16</td>\n      <td>468.174011</td>\n      <td>452.421997</td>\n      <td>465.864014</td>\n      <td>457.334015</td>\n      <td>2.105680e+07</td>\n      <td>457.334015</td>\n    </tr>\n    <tr>\n      <th>1</th>\n      <td>2014-09-17</td>\n      <td>456.859985</td>\n      <td>413.104004</td>\n      <td>456.859985</td>\n      <td>424.440002</td>\n      <td>3.448320e+07</td>\n      <td>424.440002</td>\n    </tr>\n    <tr>\n      <th>2</th>\n      <td>2014-09-18</td>\n      <td>427.834991</td>\n      <td>384.532013</td>\n      <td>424.102997</td>\n      <td>394.795990</td>\n      <td>3.791970e+07</td>\n      <td>394.795990</td>\n    </tr>\n    <tr>\n      <th>3</th>\n      <td>2014-09-19</td>\n      <td>423.295990</td>\n      <td>389.882996</td>\n      <td>394.673004</td>\n      <td>408.903992</td>\n      <td>3.686360e+07</td>\n      <td>408.903992</td>\n    </tr>\n    <tr>\n      <th>4</th>\n      <td>2014-09-20</td>\n      <td>412.425995</td>\n      <td>393.181000</td>\n      <td>408.084991</td>\n      <td>398.821014</td>\n      <td>2.658010e+07</td>\n      <td>398.821014</td>\n    </tr>\n    <tr>\n      <th>...</th>\n      <td>...</td>\n      <td>...</td>\n      <td>...</td>\n      <td>...</td>\n      <td>...</td>\n      <td>...</td>\n      <td>...</td>\n    </tr>\n    <tr>\n      <th>2291</th>\n      <td>2020-12-29</td>\n      <td>27370.720703</td>\n      <td>25987.298828</td>\n      <td>27081.810547</td>\n      <td>27362.437500</td>\n      <td>4.526595e+10</td>\n      <td>27362.437500</td>\n    </tr>\n    <tr>\n      <th>2292</th>\n      <td>2020-12-30</td>\n      <td>28937.740234</td>\n      <td>27360.089844</td>\n      <td>27360.089844</td>\n      <td>28840.953125</td>\n      <td>5.128744e+10</td>\n      <td>28840.953125</td>\n    </tr>\n    <tr>\n      <th>2293</th>\n      <td>2020-12-31</td>\n      <td>29244.876953</td>\n      <td>28201.992188</td>\n      <td>28841.574219</td>\n      <td>29001.720703</td>\n      <td>4.675496e+10</td>\n      <td>29001.720703</td>\n    </tr>\n    <tr>\n      <th>2294</th>\n      <td>2021-01-01</td>\n      <td>29600.626953</td>\n      <td>28803.585938</td>\n      <td>28994.009766</td>\n      <td>29374.152344</td>\n      <td>4.073030e+10</td>\n      <td>29374.152344</td>\n    </tr>\n    <tr>\n      <th>2295</th>\n      <td>2021-01-02</td>\n      <td>33155.117188</td>\n      <td>29091.181641</td>\n      <td>29376.455078</td>\n      <td>32127.267578</td>\n      <td>6.786542e+10</td>\n      <td>32127.267578</td>\n    </tr>\n  </tbody>\n</table>\n<p>2296 rows × 7 columns</p>\n</div>"
     },
     "execution_count": 8,
     "metadata": {},
     "output_type": "execute_result"
    }
   ],
   "source": [
    "pd.read_csv(data_path, index_col=0)"
   ],
   "metadata": {
    "collapsed": false,
    "pycharm": {
     "name": "#%%\n"
    }
   }
  },
  {
   "cell_type": "code",
   "execution_count": 9,
   "outputs": [
    {
     "data": {
      "text/plain": "(2296, 7)"
     },
     "execution_count": 9,
     "metadata": {},
     "output_type": "execute_result"
    }
   ],
   "source": [
    "data.shape"
   ],
   "metadata": {
    "collapsed": false,
    "pycharm": {
     "name": "#%%\n"
    }
   }
  },
  {
   "cell_type": "code",
   "execution_count": 10,
   "outputs": [
    {
     "data": {
      "text/plain": "        Date        High         Low        Open       Close      Volume  \\\n0 2014-09-16  468.174011  452.421997  465.864014  457.334015  21056800.0   \n1 2014-09-17  456.859985  413.104004  456.859985  424.440002  34483200.0   \n2 2014-09-18  427.834991  384.532013  424.102997  394.795990  37919700.0   \n3 2014-09-19  423.295990  389.882996  394.673004  408.903992  36863600.0   \n4 2014-09-20  412.425995  393.181000  408.084991  398.821014  26580100.0   \n\n    Adj Close  \n0  457.334015  \n1  424.440002  \n2  394.795990  \n3  408.903992  \n4  398.821014  ",
      "text/html": "<div>\n<style scoped>\n    .dataframe tbody tr th:only-of-type {\n        vertical-align: middle;\n    }\n\n    .dataframe tbody tr th {\n        vertical-align: top;\n    }\n\n    .dataframe thead th {\n        text-align: right;\n    }\n</style>\n<table border=\"1\" class=\"dataframe\">\n  <thead>\n    <tr style=\"text-align: right;\">\n      <th></th>\n      <th>Date</th>\n      <th>High</th>\n      <th>Low</th>\n      <th>Open</th>\n      <th>Close</th>\n      <th>Volume</th>\n      <th>Adj Close</th>\n    </tr>\n  </thead>\n  <tbody>\n    <tr>\n      <th>0</th>\n      <td>2014-09-16</td>\n      <td>468.174011</td>\n      <td>452.421997</td>\n      <td>465.864014</td>\n      <td>457.334015</td>\n      <td>21056800.0</td>\n      <td>457.334015</td>\n    </tr>\n    <tr>\n      <th>1</th>\n      <td>2014-09-17</td>\n      <td>456.859985</td>\n      <td>413.104004</td>\n      <td>456.859985</td>\n      <td>424.440002</td>\n      <td>34483200.0</td>\n      <td>424.440002</td>\n    </tr>\n    <tr>\n      <th>2</th>\n      <td>2014-09-18</td>\n      <td>427.834991</td>\n      <td>384.532013</td>\n      <td>424.102997</td>\n      <td>394.795990</td>\n      <td>37919700.0</td>\n      <td>394.795990</td>\n    </tr>\n    <tr>\n      <th>3</th>\n      <td>2014-09-19</td>\n      <td>423.295990</td>\n      <td>389.882996</td>\n      <td>394.673004</td>\n      <td>408.903992</td>\n      <td>36863600.0</td>\n      <td>408.903992</td>\n    </tr>\n    <tr>\n      <th>4</th>\n      <td>2014-09-20</td>\n      <td>412.425995</td>\n      <td>393.181000</td>\n      <td>408.084991</td>\n      <td>398.821014</td>\n      <td>26580100.0</td>\n      <td>398.821014</td>\n    </tr>\n  </tbody>\n</table>\n</div>"
     },
     "execution_count": 10,
     "metadata": {},
     "output_type": "execute_result"
    }
   ],
   "source": [
    "data.head()"
   ],
   "metadata": {
    "collapsed": false,
    "pycharm": {
     "name": "#%%\n"
    }
   }
  },
  {
   "cell_type": "code",
   "execution_count": 11,
   "outputs": [
    {
     "name": "stdout",
     "output_type": "stream",
     "text": [
      "<class 'pandas.core.frame.DataFrame'>\n",
      "RangeIndex: 2296 entries, 0 to 2295\n",
      "Data columns (total 7 columns):\n",
      " #   Column     Non-Null Count  Dtype         \n",
      "---  ------     --------------  -----         \n",
      " 0   Date       2296 non-null   datetime64[ns]\n",
      " 1   High       2296 non-null   float64       \n",
      " 2   Low        2296 non-null   float64       \n",
      " 3   Open       2296 non-null   float64       \n",
      " 4   Close      2296 non-null   float64       \n",
      " 5   Volume     2296 non-null   float64       \n",
      " 6   Adj Close  2296 non-null   float64       \n",
      "dtypes: datetime64[ns](1), float64(6)\n",
      "memory usage: 125.7 KB\n"
     ]
    }
   ],
   "source": [
    "data.info()"
   ],
   "metadata": {
    "collapsed": false,
    "pycharm": {
     "name": "#%%\n"
    }
   }
  },
  {
   "cell_type": "code",
   "execution_count": 12,
   "outputs": [
    {
     "data": {
      "text/plain": "Timestamp('2014-09-16 00:00:00')"
     },
     "execution_count": 12,
     "metadata": {},
     "output_type": "execute_result"
    }
   ],
   "source": [
    "pd.to_datetime(data['Date'][0])"
   ],
   "metadata": {
    "collapsed": false,
    "pycharm": {
     "name": "#%%\n"
    }
   }
  },
  {
   "cell_type": "code",
   "execution_count": 13,
   "outputs": [],
   "source": [
    "import numpy as np\n",
    "import pandas as pd\n",
    "from scipy.signal import argrelextrema"
   ],
   "metadata": {
    "collapsed": false,
    "pycharm": {
     "name": "#%%\n"
    }
   }
  },
  {
   "cell_type": "code",
   "execution_count": 14,
   "outputs": [],
   "source": [
    "def find_support(data, price = 'Close', order = 400):\n",
    "    support_ix =  argrelextrema(data[price].values, np.less_equal, order = order)\n",
    "    data['Support'] = data.iloc[support_ix][0][price]\n",
    "    for i in data[data['Support'].notnull()].index:\n",
    "        for n in range(-int(order/2), int(order/4)+1, 1):\n",
    "            step = pd.Timedelta(n, unit = 'h')\n",
    "            if (i - step) < data.index[-1] and (i - step) > data.index[0]:\n",
    "                data.loc[i - step, 'Support Line'] = data.loc[i, 'Support']\n"
   ],
   "metadata": {
    "collapsed": false,
    "pycharm": {
     "name": "#%%\n"
    }
   }
  },
  {
   "cell_type": "code",
   "execution_count": 15,
   "outputs": [
    {
     "data": {
      "text/plain": "(array([ 119, 1550], dtype=int64),)"
     },
     "execution_count": 15,
     "metadata": {},
     "output_type": "execute_result"
    }
   ],
   "source": [
    "price = 'Close'\n",
    "order = 400\n",
    "support_ix =  argrelextrema(data[price].values, np.less_equal, order = order)\n",
    "support_ix\n"
   ],
   "metadata": {
    "collapsed": false,
    "pycharm": {
     "name": "#%%\n"
    }
   }
  },
  {
   "cell_type": "code",
   "execution_count": 62,
   "outputs": [],
   "source": [
    "from sklearn.base import BaseEstimator, TransformerMixin\n",
    "\n",
    "class BaseTrader(BaseEstimator, TransformerMixin):\n",
    "    def __init__(self, price = 'Close', valid_days = 50,\n",
    "                 break_support = 0.1, break_resist = 0.1):\n",
    "        self.price = price\n",
    "        self.valid_days = valid_days\n",
    "        self.dip_to_buy = 1 - break_support\n",
    "        self.hype_to_sell = 1 + break_resist\n",
    "\n",
    "    def fit(self, X):\n",
    "        return X\n",
    "\n",
    "    def transform(self, X):\n",
    "        pass\n",
    "    # ------------- Support and Resistance -------------\n",
    "    def find_base(self, X, support = True):\n",
    "        if support:\n",
    "            base, func = 'Support', np.less_equal\n",
    "        else:\n",
    "            base, func = 'Resistance', np.greater_equal\n",
    "            \n",
    "        base_ix =  argrelextrema(X[self.price].values, func, order = self.valid_days)\n",
    "        base_price = X.loc[base_ix, self.price]\n",
    "        X[base] = base_price\n",
    "        self.find_baseline(X, base)  # base lines to plot later\n",
    "\n",
    "        return list(base_price[::-1]), list(base_ix[0][::-1])\n",
    "\n",
    "    def find_baseline(self, X, base, divide_by = 50):\n",
    "        line_range = len(X) // divide_by\n",
    "        X[f\"{base} Line\"] = X[base].fillna(method='ffill', limit = line_range)\n",
    "        X[f\"{base} Line\"].fillna(method='bfill', limit=line_range, inplace=True)\n",
    "\n",
    "    def find_support(self, X):\n",
    "        self.find_base(X, support = True)\n",
    "    \n",
    "    def find_resistance(self, X):\n",
    "        self.find_base(X, support = False)\n",
    "\n",
    "\n",
    "    # ------------- Buy & Sell Signals -------------\n",
    "\n",
    "    def make_signal(self, X):\n",
    "        X['Signal'] = 0\n",
    "        all_bases, base_ix = self.find_base(X)\n",
    "        curr_bases, bought_bases = [], []\n",
    "        for i in range(len(X)):\n",
    "            if len(base_ix) > 0 and i > base_ix[-1]:  # if iterator passes the day of a support\n",
    "                curr_bases.append(all_bases.pop())  # that base becomes available to be compared\n",
    "                curr_bases.sort()  # make the last support the biggest one\n",
    "                base_ix.pop()  # no need to record the date that have been passed\n",
    "\n",
    "            curr_price = X.loc[i, self.price]\n",
    "            if len(curr_bases) > 0 and \\\n",
    "                    curr_price < curr_bases[-1] * self.dip_to_buy:\n",
    "                        X.loc[i, 'Signal'] = 1\n",
    "                        X.loc[i, 'Bought Price'] = curr_price\n",
    "                        bought_bases.append(curr_bases.pop())\n",
    "\n",
    "            if len(bought_bases) > 0 and \\\n",
    "                    curr_price > bought_bases[0] * self.hype_to_sell:\n",
    "                        X.loc[i, 'Signal'] = -1\n",
    "                        X.loc[i, 'Sold Price'] = curr_price\n",
    "                        bought_bases = bought_bases[1:]"
   ],
   "metadata": {
    "collapsed": false,
    "pycharm": {
     "name": "#%%\n"
    }
   }
  },
  {
   "cell_type": "code",
   "execution_count": 63,
   "outputs": [],
   "source": [
    "data = original_data.copy()\n",
    "transformer = BaseTrader(break_support=0.2, break_resist=0.5)\n",
    "transformer.find_base(data)\n",
    "transformer.make_signal(data)"
   ],
   "metadata": {
    "collapsed": false,
    "pycharm": {
     "name": "#%%\n"
    }
   }
  },
  {
   "cell_type": "code",
   "execution_count": 60,
   "outputs": [],
   "source": [
    "import plotly.io as pio\n",
    "pio.renderers.default = \"browser\""
   ],
   "metadata": {
    "collapsed": false,
    "pycharm": {
     "name": "#%%\n"
    }
   }
  },
  {
   "cell_type": "code",
   "execution_count": 67,
   "outputs": [],
   "source": [
    "import plotly.graph_objects as go\n",
    "from plotly.subplots import make_subplots\n",
    "\n",
    "fig = make_subplots(rows = 2, cols = 1, shared_xaxes = True, row_heights = [0.8, 0.2])\n",
    "price = go.Scatter(x = data['Date'], y = data['Close'], name = ticker.upper(),\n",
    "                   marker_color = '#ffffff')\n",
    "\n",
    "fig.add_trace(price, row = 1, col = 1)\n",
    "trace_support = go.Scatter(x = data['Date'], y = data['Support Line'],\n",
    "                           name = 'Support', mode = 'lines',\n",
    "                           marker_color = '#ea3943', showlegend=False)\n",
    "fig.add_trace(trace_support, row = 1, col = 1)\n",
    "# trace_resistance = go.Scatter(x = data['Date'], y = data['Resistance Line'],\n",
    "#                            name = 'Resistance', mode = 'lines',\n",
    "#                            marker_color = '#ea3943')\n",
    "# fig.add_trace(trace_resistance, row = 1, col = 1)\n",
    "trace_sellsignals = go.Scatter(x = data['Date'], y = data['Sold Price'],\n",
    "                           name = 'Sell', mode = 'markers',\n",
    "                           marker_color = '#ea3943',\n",
    "                           marker_symbol = 'triangle-down',\n",
    "                           marker_size = 15)\n",
    "fig.add_trace(trace_sellsignals)\n",
    "trace_buysignals = go.Scatter(x = data['Date'], y = data['Bought Price'],\n",
    "                           name = 'Buy', mode = 'markers',\n",
    "                           marker_color = '#16c784',\n",
    "                           marker_symbol = 'triangle-up',\n",
    "                           marker_size = 15)\n",
    "fig.add_trace(trace_buysignals, row = 1, col = 1)\n",
    "volume = go.Bar(x = data['Date'], y = data['Volume'], name = 'Volume',\n",
    "                opacity = 1, marker_line_width = 0, marker_color = '#808080',\n",
    "                showlegend=False)\n",
    "fig.add_trace(volume, row = 2, col = 1)\n",
    "colors = {\n",
    "    'background': '#111111',\n",
    "    'text': '#ffffff'\n",
    "}\n",
    "\n",
    "fig.update_layout(\n",
    "    plot_bgcolor=colors['background'],\n",
    "    paper_bgcolor=colors['background'],\n",
    "    font_color=colors['text']\n",
    ")\n",
    "\n",
    "fig.update_yaxes(type=\"log\", dtick=0.5, row=1, col=1)\n",
    "fig.update_xaxes(showgrid=False)\n",
    "fig\n"
   ],
   "metadata": {
    "collapsed": false,
    "pycharm": {
     "name": "#%%\n"
    }
   }
  },
  {
   "cell_type": "code",
   "execution_count": 56,
   "outputs": [
    {
     "name": "stdout",
     "output_type": "stream",
     "text": [
      "Dash is running on http://127.0.0.1:8050/\n",
      "\n",
      "Dash is running on http://127.0.0.1:8050/\n",
      "\n",
      "Dash is running on http://127.0.0.1:8050/\n",
      "\n",
      "Dash is running on http://127.0.0.1:8050/\n",
      "\n",
      "Dash is running on http://127.0.0.1:8050/\n",
      "\n",
      "Dash is running on http://127.0.0.1:8050/\n",
      "\n",
      "Dash is running on http://127.0.0.1:8050/\n",
      "\n",
      "Dash is running on http://127.0.0.1:8050/\n",
      "\n",
      "Dash is running on http://127.0.0.1:8050/\n",
      "\n",
      " Warning: This is a development server. Do not use app.run_server\n",
      " Warning: This is a development server. Do not use app.run_server\n",
      " Warning: This is a development server. Do not use app.run_server\n",
      " Warning: This is a development server. Do not use app.run_server\n",
      " Warning: This is a development server. Do not use app.run_server\n",
      " Warning: This is a development server. Do not use app.run_server\n",
      " Warning: This is a development server. Do not use app.run_server\n",
      " Warning: This is a development server. Do not use app.run_server\n",
      " Warning: This is a development server. Do not use app.run_server\n",
      " in production, use a production WSGI server like gunicorn instead.\n",
      "\n",
      " in production, use a production WSGI server like gunicorn instead.\n",
      "\n",
      " in production, use a production WSGI server like gunicorn instead.\n",
      "\n",
      " in production, use a production WSGI server like gunicorn instead.\n",
      "\n",
      " in production, use a production WSGI server like gunicorn instead.\n",
      "\n",
      " in production, use a production WSGI server like gunicorn instead.\n",
      "\n",
      " in production, use a production WSGI server like gunicorn instead.\n",
      "\n",
      " in production, use a production WSGI server like gunicorn instead.\n",
      "\n",
      " in production, use a production WSGI server like gunicorn instead.\n",
      "\n",
      " * Serving Flask app \"__main__\" (lazy loading)\r\n",
      " * Environment: production\r\n",
      "   WARNING: This is a development server. Do not use it in a production deployment.\r\n",
      "   Use a production WSGI server instead.\r\n",
      " * Debug mode: off\r\n"
     ]
    }
   ],
   "source": [
    "import dash\n",
    "import dash_core_components as dcc\n",
    "import dash_html_components as html\n",
    "\n",
    "external_stylesheets = [\n",
    "    {\n",
    "        \"href\": \"https://fonts.googleapis.com/css2?family=Lato:wght@400;700&display=swap\",\n",
    "        \"rel\": \"stylesheet\",\n",
    "    },\n",
    "]\n",
    "\n",
    "app = dash.Dash(__name__, external_stylesheets=external_stylesheets)\n",
    "\n",
    "colors = {\n",
    "    'background': '#111111',\n",
    "    'text': '#7FDBFF'\n",
    "}\n",
    "\n",
    "fig.update_layout(\n",
    "    plot_bgcolor=colors['background'],\n",
    "    paper_bgcolor=colors['background'],\n",
    "    font_color=colors['text']\n",
    ")\n",
    "\n",
    "\n",
    "app.layout = html.Div(style={'backgroundColor': colors['background']}, children=[\n",
    "    html.H1(\n",
    "        children='Buy the Dip - Sell the Hype',\n",
    "        style={\n",
    "            'textAlign': 'center',\n",
    "            'color': colors['text']\n",
    "        }\n",
    "    ),\n",
    "\n",
    "    dcc.Graph(\n",
    "        id='example-graph-2',\n",
    "        figure=fig\n",
    "    )\n",
    "])\n",
    "app.run_server(debug=False)  # Turn off reloader if inside Jupyter"
   ],
   "metadata": {
    "collapsed": false,
    "pycharm": {
     "name": "#%%\n"
    }
   }
  },
  {
   "cell_type": "code",
   "execution_count": null,
   "outputs": [],
   "source": [
    "trace_support = go.Scatter(x = data.index, y = data['Support Line'],\n",
    "                           name = 'Support', mode = 'lines',\n",
    "                           marker_color = '#21CCCB')\n",
    "trace_resistance = go.Scatter(x = data.index, y = data['Resistance Line'],\n",
    "                           name = 'Resistance', mode = 'lines',\n",
    "                           marker_color = '#FF6E58')\n",
    "\n",
    "trace_buysignals = go.Scatter(x = data.index, y = data['Bought Price'],\n",
    "                           name = 'Buy', mode = 'markers',\n",
    "                           marker_color = '#57e51e',\n",
    "                           marker_symbol = 'triangle-up',\n",
    "                           marker_size = 15)\n",
    "trace_sellsignals = go.Scatter(x = data.index, y = data['Sold Price'],\n",
    "                           name = 'Sell', mode = 'markers',\n",
    "                           marker_color = '#e53c1e',\n",
    "                           marker_symbol = 'triangle-down',\n",
    "                           marker_size = 15)\n",
    "\n",
    "fig.add_trace(trace_support)\n",
    "fig.add_trace(trace_resistance)\n",
    "fig.add_trace(trace_buysignals)\n",
    "fig.add_trace(trace_sellsignals)\n"
   ],
   "metadata": {
    "collapsed": false,
    "pycharm": {
     "name": "#%%\n"
    }
   }
  }
 ]
}